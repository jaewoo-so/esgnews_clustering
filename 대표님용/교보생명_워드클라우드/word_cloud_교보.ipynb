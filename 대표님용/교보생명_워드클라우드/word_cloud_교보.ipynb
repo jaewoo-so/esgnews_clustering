{
 "cells": [
  {
   "cell_type": "code",
   "execution_count": 33,
   "id": "f447e14e-8a95-44fb-bc99-e9e83cdee756",
   "metadata": {},
   "outputs": [],
   "source": [
    "import pandas as pd\n",
    "import feedparser\n",
    "from newspaper import Article\n",
    "import re\n",
    "from collections import Counter\n",
    "import matplotlib.pyplot as plt\n",
    "import numpy as np"
   ]
  },
  {
   "cell_type": "code",
   "execution_count": 2,
   "id": "33c7a85b-178f-4663-ab91-7fcd310139cf",
   "metadata": {},
   "outputs": [],
   "source": [
    "def get_contents(link):\n",
    "        article = Article(link, language='ko')\n",
    "        article.download()\n",
    "        article.parse()\n",
    "        return article.text\n",
    "\n",
    "def cleaning_korean(content):\n",
    "    content = content.replace('\\n\\n','')\n",
    "    content = ' '.join(content.split(' '))\n",
    "\n",
    "    #클리닝1\n",
    "    content = re.sub(r'... 기자', '', content)\n",
    "    content = re.sub(r'...기자', '', content)\n",
    "\n",
    "    #괄호안 제거 \n",
    "    ''' 괄호안 내용 제거하기 '''\n",
    "    pattern_bracket1 = r'\\([^)]*\\)'\n",
    "    pattern_bracket2 = r'\\{[^)]*\\}'\n",
    "    pattern_bracket3 = r'\\<[^)]*\\>'\n",
    "    pattern_bracket4 = r'\\[[^)]*\\]'\n",
    "\n",
    "    x = '이건 {괄호 안의 불필요한 정보를} 삭제하는 코드다.'\n",
    "    content = re.sub(pattern=pattern_bracket1, repl='', string= content)\n",
    "    content = ' '.join(content.split())\n",
    "    content = re.sub(pattern=pattern_bracket2, repl='', string= content)\n",
    "    content = ' '.join(content.split())\n",
    "    content = re.sub(pattern=pattern_bracket3, repl='', string= content)\n",
    "    content = ' '.join(content.split())\n",
    "    content = re.sub(pattern=pattern_bracket4, repl='', string= content)\n",
    "    content = ' '.join(content.split())\n",
    "    #클리닝\n",
    "    content = content.lower() #lower case\n",
    "    pattern = '([a-zA-Z0-9_.+-]+@[a-zA-Z0-9-]+\\.[a-zA-Z0-9-.]+)' # E-mail제거\n",
    "    content = re.sub(pattern=pattern, repl='', string=content)\n",
    "    pattern = '(http|ftp|https)://(?:[-\\w.]|(?:%[\\da-fA-F]{2}))+' # URL제거\n",
    "    content = re.sub(pattern=pattern, repl='', string=content)\n",
    "    # 특수기호 특수\n",
    "    content = re.sub('[-=+#/\\?:^$@*\\\"※~%ㆍ!』\\\\‘|\\(\\)\\[\\]\\<\\>`\\'…》Δ△·“=◎<>▷]', '', content)\n",
    "    content = re.sub('[一-龥]', '',content)\n",
    "    #pattern = '[^\\w\\s]'         # 특수기호제거\n",
    "    #content = re.sub(r'[@%\\\\*=()/~#&\\+á?\\xc3\\xa1\\-\\|\\:\\;\\!\\-\\,\\_\\~\\$\\'\\\"]', '',str(content)) #remove punctuation\n",
    "    content = re.sub(r\"[^a-zA-Z0-9가-힣\\.\\s]\",\"\",content)\n",
    "    content = re.sub(pattern=pattern, repl='', string=content)\n",
    "    content = re.sub(r'\\s+', ' ', content) #remove extra space\n",
    "    content = re.sub(r'<[^>]+>','',content) #remove Html tags\n",
    "    content = re.sub(r'\\s+', ' ', content) #remove spaces\n",
    "    content = re.sub(r\"^\\s+\", '', content) #remove space from start\n",
    "    content = re.sub(r'\\s+$', '', content) #remove space from the end\n",
    "    return content"
   ]
  },
  {
   "cell_type": "code",
   "execution_count": 5,
   "id": "52146101-2dbf-44aa-8bde-27d585c3b887",
   "metadata": {},
   "outputs": [],
   "source": [
    "dflink = pd.read_csv('./교보생명.csv')"
   ]
  },
  {
   "cell_type": "code",
   "execution_count": 7,
   "id": "5f988b9f-cbf9-4b80-b742-36901bd8a573",
   "metadata": {},
   "outputs": [
    {
     "name": "stdout",
     "output_type": "stream",
     "text": [
      "http://www.investchosun.com/m/article.html?contid=2023020980230\n",
      "https://www.etnews.com/20230208000108\n",
      "Article `download()` failed with ('Connection aborted.', ConnectionResetError(10054, '현재 연결은 원격 호스트에 의해 강제로 끊겼습니다', None, 10054, None)) on URL https://zdnet.co.kr/view/?no=20230208112704\n",
      "https://mbnmoney.mbn.co.kr/news/view?news_no=MM1004854777\n",
      "http://www.insweek.co.kr/59370\n",
      "https://www.nocutnews.co.kr/news/5891824\n",
      "https://news.einfomax.co.kr/news/articleView.html?idxno=4253692\n",
      "http://news.bizwatch.co.kr/article/finance/2023/02/08/0043\n",
      "https://www.straightnews.co.kr/news/articleView.html?idxno=225581\n",
      "http://www.thebell.co.kr/free/Content/ArticleView.asp?key=202302091334341040105951&svccode=\n",
      "https://www.mk.co.kr/news/economy/10636493\n",
      "https://www.nbntv.kr/news/articleView.html?idxno=67182\n",
      "https://www.biztribune.co.kr/news/articleView.html?idxno=274832\n",
      "https://www.sisaon.co.kr/news/articleView.html?idxno=147360\n",
      "https://www.lcnews.co.kr/news/articleView.html?idxno=44575\n",
      "https://www.hankyung.com/economy/article/2022120713531\n",
      "http://www.sbiztoday.kr/news/articleView.html?idxno=13057\n",
      "https://news.mt.co.kr/mtview.php?no=2022121315154846658\n",
      "https://www.ajunews.com/view/20230208105330976\n",
      "http://news.heraldcorp.com/view.php?ud=20230214000659\n",
      "http://www.tongildaily.com/news/articleView.html?idxno=33893\n"
     ]
    }
   ],
   "source": [
    "p_contents = []\n",
    "for url in dflink['url']:\n",
    "    try:\n",
    "        p_contents.append(  cleaning_korean(get_contents(url) ))\n",
    "        print(url)\n",
    "    except Exception as e:\n",
    "        print(e)"
   ]
  },
  {
   "cell_type": "code",
   "execution_count": 8,
   "id": "6ebb306b-9368-4f5a-8413-33761daff2c3",
   "metadata": {},
   "outputs": [],
   "source": [
    "from konlpy.tag import Mecab\n",
    "\n",
    "\n",
    "def content2noun_mecab(series_content, save_path = None):\n",
    "    try:\n",
    "        tokenizer = Mecab() \n",
    "    except:\n",
    "        tokenizer = Mecab('C:\\mecab\\mecab-ko-dic') \n",
    "    res_list = []\n",
    "    print('------ start mecab tokenizer ------')\n",
    "    for row in series_content:\n",
    "        try:\n",
    "            res = ' '.join(tokenizer.nouns(row))\n",
    "            res_list.append(res)\n",
    "        except Exception as e:\n",
    "            print(e)\n",
    "            res_list.append('')\n",
    "    return res_list"
   ]
  },
  {
   "cell_type": "code",
   "execution_count": 9,
   "id": "8323223b-0d81-464b-9e96-cbdabedf94a0",
   "metadata": {},
   "outputs": [
    {
     "name": "stdout",
     "output_type": "stream",
     "text": [
      "------ start mecab tokenizer ------\n",
      "------ start mecab tokenizer ------\n",
      "------ start mecab tokenizer ------\n",
      "------ start mecab tokenizer ------\n",
      "------ start mecab tokenizer ------\n",
      "------ start mecab tokenizer ------\n",
      "------ start mecab tokenizer ------\n",
      "------ start mecab tokenizer ------\n",
      "------ start mecab tokenizer ------\n",
      "------ start mecab tokenizer ------\n",
      "------ start mecab tokenizer ------\n",
      "------ start mecab tokenizer ------\n",
      "------ start mecab tokenizer ------\n",
      "------ start mecab tokenizer ------\n",
      "------ start mecab tokenizer ------\n",
      "------ start mecab tokenizer ------\n",
      "------ start mecab tokenizer ------\n",
      "------ start mecab tokenizer ------\n",
      "------ start mecab tokenizer ------\n",
      "------ start mecab tokenizer ------\n"
     ]
    }
   ],
   "source": [
    "pc = []\n",
    "for c in p_contents:\n",
    "    pc.append(content2noun_mecab(c))"
   ]
  },
  {
   "cell_type": "code",
   "execution_count": 10,
   "id": "e92852ac-2758-4b02-8a37-ec8b26bf30bf",
   "metadata": {},
   "outputs": [
    {
     "name": "stdout",
     "output_type": "stream",
     "text": [
      "------ start mecab tokenizer ------\n"
     ]
    }
   ],
   "source": [
    "pres = content2noun_mecab(p_contents)\n",
    "\n",
    "\n",
    "pl = []\n",
    "for res in pres:\n",
    "    pl = pl+res.split(' ')\n",
    "\n",
    "\n",
    "pclean = []\n",
    "for cc in pl:\n",
    "    if len(cc) < 2:\n",
    "        continue\n",
    "    else:\n",
    "        pclean.append(cc)\n",
    "        "
   ]
  },
  {
   "cell_type": "markdown",
   "id": "b7816c8d-0495-4262-bca6-9e2005afc074",
   "metadata": {},
   "source": [
    "---"
   ]
  },
  {
   "cell_type": "code",
   "execution_count": 11,
   "id": "ecfd38cf-e0f6-4f6b-9cdc-50989896c734",
   "metadata": {},
   "outputs": [],
   "source": [
    "from wordcloud import WordCloud"
   ]
  },
  {
   "cell_type": "code",
   "execution_count": 12,
   "id": "f7445bda-848b-41a0-bb35-c4861106c43e",
   "metadata": {},
   "outputs": [],
   "source": [
    "def get_count(pclean):\n",
    "    dfp = pd.DataFrame()\n",
    "    dfp['count'] = pclean\n",
    "    \n",
    "    dfpc = dfp.value_counts().to_frame()\n",
    "    dfpc['word'] =  dfpc.index\n",
    "    dfpc = dfpc.reset_index(drop=True)\n",
    "    dfpc['word'] = dfpc['word'].apply(lambda x : x[0])\n",
    "    dfpc.columns = ['count','word']\n",
    "    \n",
    "    dfpc = dfpc.loc[dfpc['count'] > 1]\n",
    "\n",
    "    return dfpc"
   ]
  },
  {
   "cell_type": "code",
   "execution_count": 14,
   "id": "1356d825-8522-43db-b37d-314e4b82bf63",
   "metadata": {},
   "outputs": [],
   "source": [
    "dfpc = get_count(pclean)\n",
    "dfpc.to_csv('ooo.csv')"
   ]
  },
  {
   "cell_type": "markdown",
   "id": "190bda6c-7db0-4652-ba2f-1789d0c1241c",
   "metadata": {},
   "source": [
    "---"
   ]
  },
  {
   "cell_type": "code",
   "execution_count": 47,
   "id": "2d60a824-60ba-4fd5-963f-4e8519e454f2",
   "metadata": {},
   "outputs": [
    {
     "data": {
      "text/plain": [
       "<wordcloud.wordcloud.WordCloud at 0x1c4d0788ac0>"
      ]
     },
     "execution_count": 47,
     "metadata": {},
     "output_type": "execute_result"
    }
   ],
   "source": [
    "dfpc = pd.read_csv('./10개미만제거/ooo.csv', index_col = 0)\n",
    "mx = dfpc['count'].max()\n",
    "mn = dfpc['count'].min()\n",
    "#dfpc['count'] = dfpc['count'].apply(lambda x : int( np.log2( (mx - x)/(mx - mn) + 0.0001 ) + 10 ))\n",
    "\n",
    "dfpc['word'] = dfpc['word'].apply(lambda x : x.lstrip().rstrip())\n",
    "Counter(list(dfpc['word'].values))\n",
    "if len(dfpc) !=  len(set(dfpc['word'].values)):\n",
    "    print('dif 12312313414124')\n",
    "pdict = dict(zip(dfpc['word'] , dfpc['count']))\n",
    "wc = WordCloud(font_path='malgun', width=800, height=800, scale=1.0, max_font_size=800, background_color = 'white')\n",
    "gen = wc.generate_from_frequencies(pdict)\n",
    "wc.to_file('oo.png')\n",
    "#plt.figure()\n",
    "#plt.imshow(gen)\n",
    "#Counter(list(dfpc['word'].values))"
   ]
  },
  {
   "cell_type": "code",
   "execution_count": 45,
   "id": "50a6d490-d346-4b3c-9d28-5064bb66975e",
   "metadata": {},
   "outputs": [
    {
     "data": {
      "text/plain": [
       "Counter({'지주사': 1,\n",
       "         '금융': 1,\n",
       "         '전환': 1,\n",
       "         '설립': 1,\n",
       "         '추진': 1,\n",
       "         '대주주': 1,\n",
       "         '성장': 1,\n",
       "         '자회사': 1,\n",
       "         '사업': 1,\n",
       "         '주식': 1,\n",
       "         '지주회사': 1,\n",
       "         '소주주': 1,\n",
       "         '지분율': 1,\n",
       "         '지주': 1,\n",
       "         '보험': 1,\n",
       "         '분할': 1,\n",
       "         '불확실성': 1,\n",
       "         '이사회': 1,\n",
       "         '신주': 1,\n",
       "         '포트폴리오': 1,\n",
       "         '동력': 1,\n",
       "         '생명': 1,\n",
       "         '인적분할': 1,\n",
       "         '교보': 1,\n",
       "         '뷰카': 1,\n",
       "         '어피너티': 1,\n",
       "         '분쟁': 1,\n",
       "         '장기': 1,\n",
       "         '관계자': 1,\n",
       "         '계획': 1,\n",
       "         '내년': 1,\n",
       "         '보험업': 1,\n",
       "         '가능': 1,\n",
       "         '옵션': 1,\n",
       "         '투자': 1,\n",
       "         '지배': 1,\n",
       "         '마련': 1,\n",
       "         '신창재': 1,\n",
       "         '경영': 1,\n",
       "         '구축': 1,\n",
       "         '신설': 1,\n",
       "         '과정': 1,\n",
       "         '자산': 1,\n",
       "         '단계': 1,\n",
       "         '그룹': 1,\n",
       "         '기대': 1,\n",
       "         '기업': 1,\n",
       "         '하반기': 1,\n",
       "         '인수': 1,\n",
       "         '때문': 1,\n",
       "         '출범': 1,\n",
       "         '전략': 1,\n",
       "         '관계사': 1,\n",
       "         '상장': 1,\n",
       "         '메리': 1,\n",
       "         '승인': 1,\n",
       "         '결정': 1,\n",
       "         '메리츠': 1,\n",
       "         '주주총회': 1})"
      ]
     },
     "execution_count": 45,
     "metadata": {},
     "output_type": "execute_result"
    }
   ],
   "source": [
    "dfpc = pd.read_csv('./10개미만제거/ooo.csv', index_col = 0)\n",
    "mx = dfpc['count'].max()\n",
    "mn = dfpc['count'].min()\n",
    "#dfpc['count'] = dfpc['count'].apply(lambda x : int( np.log2( (mx - x)/(mx - mn) + 0.0001 ) + 10 ))\n",
    "\n",
    "dfpc['word'] = dfpc['word'].apply(lambda x : x.lstrip().rstrip())\n",
    "Counter(list(dfpc['word'].values))"
   ]
  },
  {
   "cell_type": "code",
   "execution_count": null,
   "id": "2bb4acda-b0c1-4f7a-9a16-aaf43220193d",
   "metadata": {},
   "outputs": [],
   "source": []
  }
 ],
 "metadata": {
  "kernelspec": {
   "display_name": "Python [conda env:nlp38]",
   "language": "python",
   "name": "conda-env-nlp38-py"
  },
  "language_info": {
   "codemirror_mode": {
    "name": "ipython",
    "version": 3
   },
   "file_extension": ".py",
   "mimetype": "text/x-python",
   "name": "python",
   "nbconvert_exporter": "python",
   "pygments_lexer": "ipython3",
   "version": "3.8.13"
  }
 },
 "nbformat": 4,
 "nbformat_minor": 5
}

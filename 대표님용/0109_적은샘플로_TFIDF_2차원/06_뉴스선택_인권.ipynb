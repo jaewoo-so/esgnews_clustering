{
 "cells": [
  {
   "cell_type": "raw",
   "id": "c9a76bf9-8ee5-4644-b03e-faede6d9c62f",
   "metadata": {},
   "source": []
  },
  {
   "cell_type": "code",
   "execution_count": 2,
   "id": "7f7c82a5-63bc-415f-9b76-bc65dcca8d63",
   "metadata": {
    "tags": []
   },
   "outputs": [],
   "source": [
    "import pandas as pd\n",
    "from konlpy.tag import Mecab\n",
    "from functools import *\n",
    "from collections import Counter\n",
    "import numpy as np\n",
    "import re\n",
    "from tqdm.auto import tqdm\n",
    "import select_news"
   ]
  },
  {
   "cell_type": "markdown",
   "id": "708ee9a6-d748-4039-96e5-fe41821bfd80",
   "metadata": {},
   "source": [
    "# 사용법"
   ]
  },
  {
   "cell_type": "code",
   "execution_count": 3,
   "id": "95952fa8-c078-4c2e-b000-b7a3ddadf2b4",
   "metadata": {},
   "outputs": [],
   "source": [
    "df = select_news.load_data()"
   ]
  },
  {
   "cell_type": "markdown",
   "id": "8fca5ebc-8eb1-4e34-afd9-ce64e328bdc8",
   "metadata": {},
   "source": [
    "---\n",
    "### 포함되어 있는 것 "
   ]
  },
  {
   "cell_type": "code",
   "execution_count": 5,
   "id": "97233e0e-d3b4-462d-a955-5f457761f5e2",
   "metadata": {},
   "outputs": [
    {
     "name": "stdout",
     "output_type": "stream",
     "text": [
      "find words is in title\n",
      "인권 ['갑질'] (9, 11)\n",
      "인권 ['괴롭'] (24, 11)\n",
      "인권 ['성희롱'] (11, 11)\n",
      "인권 ['차별'] (19, 11)\n"
     ]
    }
   ],
   "source": [
    "# 키워드 넣으면 제목에 그 키워드가 들어가 있는 뉴스를 선별해준다. \n",
    "trg = '인권'\n",
    "keyword_list = [['갑질'] , ['괴롭'] , ['성희롱'] , ['차별']]\n",
    "\n",
    "df_inlist = select_news.get_in_df( df , trg , keyword_list)\n",
    "\n",
    "df_inlist_top5 = [ x.head(5) for x in df_inlist]"
   ]
  },
  {
   "cell_type": "code",
   "execution_count": 15,
   "id": "5d905947-e75d-4962-a252-d9f34ebb2028",
   "metadata": {},
   "outputs": [],
   "source": [
    "df_0 = df_inlist[0].sample(7)\n",
    "df_1 = df_inlist[1].sample(5)\n",
    "df_2 = df_inlist[2].sample(4)"
   ]
  },
  {
   "cell_type": "code",
   "execution_count": 17,
   "id": "bdc76377-69cb-4670-b6a6-1a8e435e1cd3",
   "metadata": {},
   "outputs": [],
   "source": [
    "df_0['from'] = keyword_list[0][0]\n",
    "df_1['from'] = keyword_list[1][0]\n",
    "df_2['from'] = keyword_list[2][0]\n",
    "\n",
    "df_include = pd.concat([df_0,df_1,df_2])\n"
   ]
  },
  {
   "cell_type": "markdown",
   "id": "2b73969f-d6c7-4940-9abf-4e9a00e432cf",
   "metadata": {
    "tags": []
   },
   "source": [
    "---\n",
    "## 포함안되어있는것"
   ]
  },
  {
   "cell_type": "code",
   "execution_count": 6,
   "id": "b9e1e1fa-de17-49c9-b865-e57e24246274",
   "metadata": {},
   "outputs": [],
   "source": [
    "# 포함 안된 것 \n",
    "keyword_list = [['갑질'] , ['괴롭'] , ['성희롱'] , ['차별']]"
   ]
  },
  {
   "cell_type": "code",
   "execution_count": 7,
   "id": "cba51513-d5c1-4213-aad3-d297bd6e4e15",
   "metadata": {},
   "outputs": [
    {
     "name": "stdout",
     "output_type": "stream",
     "text": [
      "find words is not in title\n",
      "size : 208\n"
     ]
    }
   ],
   "source": [
    "df_out_title  = select_news.filter_list_out_title( df , trg , keyword_list)"
   ]
  },
  {
   "cell_type": "code",
   "execution_count": 8,
   "id": "399efee0-5d36-4771-b7eb-f5496ae716b8",
   "metadata": {},
   "outputs": [
    {
     "name": "stdout",
     "output_type": "stream",
     "text": [
      "find words is not in content\n",
      "size : 152\n"
     ]
    }
   ],
   "source": [
    "df_out_content  = select_news.filter_list_out_content( df , trg , keyword_list)"
   ]
  },
  {
   "cell_type": "code",
   "execution_count": 9,
   "id": "408a7910-fbe1-4dc9-8fe8-ee7b8a742f13",
   "metadata": {},
   "outputs": [],
   "source": [
    "df_out = pd.merge(df_out_title , df_out_content[['id','index']] , on = 'id' , how = 'inner')"
   ]
  },
  {
   "cell_type": "code",
   "execution_count": 19,
   "id": "7f9379c9-1459-4dbb-ad1e-61f0dfb6ddf0",
   "metadata": {},
   "outputs": [],
   "source": [
    "# 키워드 포함 안된 것에서 9개 뽑기 \n",
    "df_out_top15 = df_out.sample(9)\n",
    "df_out_top15['from'] = 'x'"
   ]
  },
  {
   "cell_type": "markdown",
   "id": "b5ca3d47-7ab3-4865-8891-abbaed673d43",
   "metadata": {},
   "source": [
    "---\n",
    "### 전체 합치기"
   ]
  },
  {
   "cell_type": "code",
   "execution_count": 21,
   "id": "348ab978-7c88-4469-9956-bca501b65078",
   "metadata": {},
   "outputs": [],
   "source": [
    "df_all = pd.concat([df_include,df_out_top15])\n",
    "df_all.to_excel('./3차/인권_25개.xlsx')"
   ]
  },
  {
   "cell_type": "code",
   "execution_count": 22,
   "id": "65665908-00b0-46e5-92f7-392d231e4493",
   "metadata": {},
   "outputs": [
    {
     "data": {
      "text/html": [
       "<div>\n",
       "<style scoped>\n",
       "    .dataframe tbody tr th:only-of-type {\n",
       "        vertical-align: middle;\n",
       "    }\n",
       "\n",
       "    .dataframe tbody tr th {\n",
       "        vertical-align: top;\n",
       "    }\n",
       "\n",
       "    .dataframe thead th {\n",
       "        text-align: right;\n",
       "    }\n",
       "</style>\n",
       "<table border=\"1\" class=\"dataframe\">\n",
       "  <thead>\n",
       "    <tr style=\"text-align: right;\">\n",
       "      <th></th>\n",
       "      <th>index</th>\n",
       "      <th>id</th>\n",
       "      <th>keyword</th>\n",
       "      <th>time</th>\n",
       "      <th>title</th>\n",
       "      <th>link</th>\n",
       "      <th>contents</th>\n",
       "      <th>y</th>\n",
       "      <th>contents_clean</th>\n",
       "      <th>words</th>\n",
       "      <th>from</th>\n",
       "      <th>index_x</th>\n",
       "      <th>index_y</th>\n",
       "    </tr>\n",
       "  </thead>\n",
       "  <tbody>\n",
       "    <tr>\n",
       "      <th>106113</th>\n",
       "      <td>106113.0</td>\n",
       "      <td>4719</td>\n",
       "      <td>한국전력</td>\n",
       "      <td>2020-05-13 14:18:33</td>\n",
       "      <td>한전 사내 갑질 또 터졌다김종갑 사장 입 열까</td>\n",
       "      <td>https://www.sentv.co.kr/news/view/572861</td>\n",
       "      <td>[서울경제TV=정순영 기자] 한국전력공사에서 부장급 ‘갑질’ 폭로가 또 터져 나왔다...</td>\n",
       "      <td>인권</td>\n",
       "      <td>심지어 부장급으로 추정되는 익명의 간부가 직장인 커뮤니티에 올린 게시글은 한전 직원...</td>\n",
       "      <td>[부장, 추정, 익명, 간부, 직장, 커뮤니티, 한전, 직원, 자극, 회사, 꼬락서...</td>\n",
       "      <td>갑질</td>\n",
       "      <td>NaN</td>\n",
       "      <td>NaN</td>\n",
       "    </tr>\n",
       "    <tr>\n",
       "      <th>87061</th>\n",
       "      <td>87061.0</td>\n",
       "      <td>309515</td>\n",
       "      <td>오스템임플란트</td>\n",
       "      <td>2020-02-18 00:00:00</td>\n",
       "      <td>오스템임플란트 주말출근 강요 등 직원갑질로 시끌</td>\n",
       "      <td>http://www.wolyo.co.kr/news/articleView.html?i...</td>\n",
       "      <td>엄태관 오스템임플란트 대표. /사진=오스템임플란트 제공\\n\\n[월요신문=내미림 기자...</td>\n",
       "      <td>인권</td>\n",
       "      <td>엄태관 오스템임플란트 대표. 사진오스템임플란트 제공 치과용 의료기기 업체 오스템 임...</td>\n",
       "      <td>[태관, 스템, 플란트, 대표, 사진, 스템, 플란트, 제공, 치과, 의료, 기기,...</td>\n",
       "      <td>갑질</td>\n",
       "      <td>NaN</td>\n",
       "      <td>NaN</td>\n",
       "    </tr>\n",
       "    <tr>\n",
       "      <th>5248</th>\n",
       "      <td>5248.0</td>\n",
       "      <td>125424</td>\n",
       "      <td>삼성물산</td>\n",
       "      <td>2020-07-08 11:50:49</td>\n",
       "      <td>삼성sdi 직장내괴롭힘 논란 회사는 갑질 금지 현실은 딴판</td>\n",
       "      <td>http://www.ekoreanews.co.kr/news/articleView.h...</td>\n",
       "      <td>블라인드 앱 갈무리\\n\\n삼성SDI 사업장에서 직장내 괴롭힘을 당했다는 주장이 제기...</td>\n",
       "      <td>인권</td>\n",
       "      <td>블라인드 앱 갈무리삼성sdi 사업장에서 직장내 괴롭힘을 당했다는 주장이 제기돼 논란...</td>\n",
       "      <td>[블라인드, 갈무리, 삼성, 사업장, 직장, 주장, 제기, 논란, 직장, 커뮤니티,...</td>\n",
       "      <td>갑질</td>\n",
       "      <td>NaN</td>\n",
       "      <td>NaN</td>\n",
       "    </tr>\n",
       "    <tr>\n",
       "      <th>88744</th>\n",
       "      <td>88744.0</td>\n",
       "      <td>311461</td>\n",
       "      <td>삼성SDI</td>\n",
       "      <td>2020-07-08 00:00:00</td>\n",
       "      <td>삼성sdi 직장내괴롭힘 논란 회사는 갑질 금지 현실은 딴판</td>\n",
       "      <td>http://www.ekoreanews.co.kr/news/articleView.h...</td>\n",
       "      <td>블라인드 앱 갈무리\\n\\n삼성SDI 사업장에서 직장내 괴롭힘을 당했다는 주장이 제기...</td>\n",
       "      <td>인권</td>\n",
       "      <td>블라인드 앱 갈무리삼성sdi 사업장에서 직장내 괴롭힘을 당했다는 주장이 제기돼 논란...</td>\n",
       "      <td>[블라인드, 갈무리, 삼성, 사업장, 직장, 주장, 제기, 논란, 직장, 커뮤니티,...</td>\n",
       "      <td>갑질</td>\n",
       "      <td>NaN</td>\n",
       "      <td>NaN</td>\n",
       "    </tr>\n",
       "    <tr>\n",
       "      <th>92180</th>\n",
       "      <td>92180.0</td>\n",
       "      <td>315638</td>\n",
       "      <td>제일약품</td>\n",
       "      <td>2021-03-12 12:04:20</td>\n",
       "      <td>제일약품 성희롱괴롭힘임금체불 등 도 넘은 갑질 심각</td>\n",
       "      <td>http://www.newsian.co.kr/news/articleView.html...</td>\n",
       "      <td>고용노동부, 제일약품 특별감독 결과 발표\\n\\n직원 825명 중 53.9%…\"직장 ...</td>\n",
       "      <td>인권</td>\n",
       "      <td>고용노동부 제일약품 특별감독 결과 발표직원 825명 중 53.9직장 내 괴롭힘 당한...</td>\n",
       "      <td>[고용, 노동부, 약품, 특별, 감독, 결과, 발표, 직원, 직장, 경험, 약품, ...</td>\n",
       "      <td>갑질</td>\n",
       "      <td>NaN</td>\n",
       "      <td>NaN</td>\n",
       "    </tr>\n",
       "  </tbody>\n",
       "</table>\n",
       "</div>"
      ],
      "text/plain": [
       "           index      id  keyword                 time  \\\n",
       "106113  106113.0    4719     한국전력  2020-05-13 14:18:33   \n",
       "87061    87061.0  309515  오스템임플란트  2020-02-18 00:00:00   \n",
       "5248      5248.0  125424     삼성물산  2020-07-08 11:50:49   \n",
       "88744    88744.0  311461    삼성SDI  2020-07-08 00:00:00   \n",
       "92180    92180.0  315638     제일약품  2021-03-12 12:04:20   \n",
       "\n",
       "                                   title  \\\n",
       "106113         한전 사내 갑질 또 터졌다김종갑 사장 입 열까   \n",
       "87061         오스템임플란트 주말출근 강요 등 직원갑질로 시끌   \n",
       "5248    삼성sdi 직장내괴롭힘 논란 회사는 갑질 금지 현실은 딴판   \n",
       "88744   삼성sdi 직장내괴롭힘 논란 회사는 갑질 금지 현실은 딴판   \n",
       "92180       제일약품 성희롱괴롭힘임금체불 등 도 넘은 갑질 심각   \n",
       "\n",
       "                                                     link  \\\n",
       "106113           https://www.sentv.co.kr/news/view/572861   \n",
       "87061   http://www.wolyo.co.kr/news/articleView.html?i...   \n",
       "5248    http://www.ekoreanews.co.kr/news/articleView.h...   \n",
       "88744   http://www.ekoreanews.co.kr/news/articleView.h...   \n",
       "92180   http://www.newsian.co.kr/news/articleView.html...   \n",
       "\n",
       "                                                 contents   y  \\\n",
       "106113  [서울경제TV=정순영 기자] 한국전력공사에서 부장급 ‘갑질’ 폭로가 또 터져 나왔다...  인권   \n",
       "87061   엄태관 오스템임플란트 대표. /사진=오스템임플란트 제공\\n\\n[월요신문=내미림 기자...  인권   \n",
       "5248    블라인드 앱 갈무리\\n\\n삼성SDI 사업장에서 직장내 괴롭힘을 당했다는 주장이 제기...  인권   \n",
       "88744   블라인드 앱 갈무리\\n\\n삼성SDI 사업장에서 직장내 괴롭힘을 당했다는 주장이 제기...  인권   \n",
       "92180   고용노동부, 제일약품 특별감독 결과 발표\\n\\n직원 825명 중 53.9%…\"직장 ...  인권   \n",
       "\n",
       "                                           contents_clean  \\\n",
       "106113  심지어 부장급으로 추정되는 익명의 간부가 직장인 커뮤니티에 올린 게시글은 한전 직원...   \n",
       "87061   엄태관 오스템임플란트 대표. 사진오스템임플란트 제공 치과용 의료기기 업체 오스템 임...   \n",
       "5248    블라인드 앱 갈무리삼성sdi 사업장에서 직장내 괴롭힘을 당했다는 주장이 제기돼 논란...   \n",
       "88744   블라인드 앱 갈무리삼성sdi 사업장에서 직장내 괴롭힘을 당했다는 주장이 제기돼 논란...   \n",
       "92180   고용노동부 제일약품 특별감독 결과 발표직원 825명 중 53.9직장 내 괴롭힘 당한...   \n",
       "\n",
       "                                                    words from  index_x  \\\n",
       "106113  [부장, 추정, 익명, 간부, 직장, 커뮤니티, 한전, 직원, 자극, 회사, 꼬락서...   갑질      NaN   \n",
       "87061   [태관, 스템, 플란트, 대표, 사진, 스템, 플란트, 제공, 치과, 의료, 기기,...   갑질      NaN   \n",
       "5248    [블라인드, 갈무리, 삼성, 사업장, 직장, 주장, 제기, 논란, 직장, 커뮤니티,...   갑질      NaN   \n",
       "88744   [블라인드, 갈무리, 삼성, 사업장, 직장, 주장, 제기, 논란, 직장, 커뮤니티,...   갑질      NaN   \n",
       "92180   [고용, 노동부, 약품, 특별, 감독, 결과, 발표, 직원, 직장, 경험, 약품, ...   갑질      NaN   \n",
       "\n",
       "        index_y  \n",
       "106113      NaN  \n",
       "87061       NaN  \n",
       "5248        NaN  \n",
       "88744       NaN  \n",
       "92180       NaN  "
      ]
     },
     "execution_count": 22,
     "metadata": {},
     "output_type": "execute_result"
    }
   ],
   "source": [
    "df_all.head()"
   ]
  },
  {
   "cell_type": "code",
   "execution_count": null,
   "id": "273b0438-8694-4116-b23c-65d8fc40e358",
   "metadata": {},
   "outputs": [],
   "source": []
  }
 ],
 "metadata": {
  "kernelspec": {
   "display_name": "Python [conda env:nlp38]",
   "language": "python",
   "name": "conda-env-nlp38-py"
  },
  "language_info": {
   "codemirror_mode": {
    "name": "ipython",
    "version": 3
   },
   "file_extension": ".py",
   "mimetype": "text/x-python",
   "name": "python",
   "nbconvert_exporter": "python",
   "pygments_lexer": "ipython3",
   "version": "3.8.13"
  }
 },
 "nbformat": 4,
 "nbformat_minor": 5
}

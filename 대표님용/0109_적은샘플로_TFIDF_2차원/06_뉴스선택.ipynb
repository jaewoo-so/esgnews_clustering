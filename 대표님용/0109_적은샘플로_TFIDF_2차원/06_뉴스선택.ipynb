{
 "cells": [
  {
   "cell_type": "raw",
   "id": "c9a76bf9-8ee5-4644-b03e-faede6d9c62f",
   "metadata": {},
   "source": []
  },
  {
   "cell_type": "code",
   "execution_count": 1,
   "id": "7f7c82a5-63bc-415f-9b76-bc65dcca8d63",
   "metadata": {
    "tags": []
   },
   "outputs": [],
   "source": [
    "import pandas as pd\n",
    "from konlpy.tag import Mecab\n",
    "from functools import *\n",
    "from collections import Counter\n",
    "import numpy as np\n",
    "import re\n",
    "from tqdm.auto import tqdm\n",
    "import select_news"
   ]
  },
  {
   "cell_type": "markdown",
   "id": "708ee9a6-d748-4039-96e5-fe41821bfd80",
   "metadata": {},
   "source": [
    "# 사용법"
   ]
  },
  {
   "cell_type": "code",
   "execution_count": 2,
   "id": "95952fa8-c078-4c2e-b000-b7a3ddadf2b4",
   "metadata": {},
   "outputs": [],
   "source": [
    "df = select_news.load_data()"
   ]
  },
  {
   "cell_type": "code",
   "execution_count": 4,
   "id": "97233e0e-d3b4-462d-a955-5f457761f5e2",
   "metadata": {},
   "outputs": [
    {
     "name": "stdout",
     "output_type": "stream",
     "text": [
      "find words is in title\n",
      "인적자원관리 ['사망'] (29, 11)\n",
      "인적자원관리 ['임금', '협상'] (47, 11)\n",
      "인적자원관리 ['파업'] (244, 11)\n",
      "인적자원관리 ['채용', '비리'] (63, 11)\n"
     ]
    }
   ],
   "source": [
    "# 키워드 넣으면 제목에 그 키워드가 들어가 있는 뉴스를 선별해준다. \n",
    "trg = '인적자원관리'\n",
    "keyword_list = [['사망'] , ['임금' , '협상'] , ['파업'] , ['채용','비리']]\n",
    "\n",
    "df_inlist = select_news.get_in_df( df , trg , keyword_list)\n",
    "\n",
    "df_inlist_top5 = [ x.head(5) for x in df_inlist]"
   ]
  },
  {
   "cell_type": "code",
   "execution_count": 6,
   "id": "b9e1e1fa-de17-49c9-b865-e57e24246274",
   "metadata": {},
   "outputs": [],
   "source": [
    "# 포함 안된 것 \n",
    "keyword_list = [['사망'] , ['임금' , '협상'] , ['파업'] , ['채용','비리']]"
   ]
  },
  {
   "cell_type": "code",
   "execution_count": 7,
   "id": "cba51513-d5c1-4213-aad3-d297bd6e4e15",
   "metadata": {},
   "outputs": [
    {
     "name": "stdout",
     "output_type": "stream",
     "text": [
      "find words is not in title\n",
      "size : 4138\n"
     ]
    }
   ],
   "source": [
    "df_out_title  = select_news.filter_list_out_title( df , trg , keyword_list)"
   ]
  },
  {
   "cell_type": "code",
   "execution_count": 8,
   "id": "399efee0-5d36-4771-b7eb-f5496ae716b8",
   "metadata": {},
   "outputs": [
    {
     "name": "stdout",
     "output_type": "stream",
     "text": [
      "find words is not in content\n",
      "size : 2521\n"
     ]
    }
   ],
   "source": [
    "df_out_content  = select_news.filter_list_out_content( df , trg , keyword_list)"
   ]
  },
  {
   "cell_type": "code",
   "execution_count": 12,
   "id": "408a7910-fbe1-4dc9-8fe8-ee7b8a742f13",
   "metadata": {},
   "outputs": [],
   "source": [
    "df_out = pd.merge(df_out_title , df_out_content[['id','index']] , on = 'id' , how = 'inner')"
   ]
  },
  {
   "cell_type": "code",
   "execution_count": 16,
   "id": "7f9379c9-1459-4dbb-ad1e-61f0dfb6ddf0",
   "metadata": {},
   "outputs": [],
   "source": [
    "# 키워드 포함 안된 것에서 15개 뽑기 \n",
    "df_out_top15 = df_out.sample(15)"
   ]
  },
  {
   "cell_type": "code",
   "execution_count": null,
   "id": "0ab7e87e-26d2-413a-8878-34719f5e4d3d",
   "metadata": {},
   "outputs": [],
   "source": []
  }
 ],
 "metadata": {
  "kernelspec": {
   "display_name": "Python [conda env:nlp38]",
   "language": "python",
   "name": "conda-env-nlp38-py"
  },
  "language_info": {
   "codemirror_mode": {
    "name": "ipython",
    "version": 3
   },
   "file_extension": ".py",
   "mimetype": "text/x-python",
   "name": "python",
   "nbconvert_exporter": "python",
   "pygments_lexer": "ipython3",
   "version": "3.8.13"
  }
 },
 "nbformat": 4,
 "nbformat_minor": 5
}

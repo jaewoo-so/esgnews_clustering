{
 "cells": [
  {
   "cell_type": "code",
   "execution_count": 1,
   "id": "a7bbd575-a617-4a5b-b980-43146e02fcab",
   "metadata": {},
   "outputs": [],
   "source": [
    "import pandas as pd\n",
    "from konlpy.tag import Mecab\n",
    "from functools import *\n",
    "from collections import Counter\n",
    "import numpy as np\n",
    "from tqdm.auto import tqdm"
   ]
  },
  {
   "cell_type": "code",
   "execution_count": 2,
   "id": "4da5cb4a-ed19-46e8-be5d-c0cd59d4ff14",
   "metadata": {},
   "outputs": [],
   "source": [
    "def get_word(res):\n",
    "    res_w = []\n",
    "    for word in res:\n",
    "        if len(word) < 2:\n",
    "            continue\n",
    "        else:\n",
    "            res_w.append(word)\n",
    "    return res_w\n",
    "\n",
    "tokenizer = Mecab(dicpath=r\"C:\\Mecab\\mecab-ko-dic\")\n",
    "\n",
    "def split_word_df(df_trg):\n",
    "    res_list = []\n",
    "    print(f'total : {len(df_trg)}')\n",
    "    for content in tqdm(df_trg.contents_clean):\n",
    "        res = tokenizer.nouns(content)\n",
    "        res = get_word(res)\n",
    "        res_list.append(res)\n",
    "    df_trg['words'] = res_list\n",
    "    return df_trg\n",
    "\n",
    "def get_word_pct_dict(lst_word , df_src , trg_col):\n",
    "    word_pct_dict = {}\n",
    "    for word in tqdm(lst_word):\n",
    "        word_pct_dict.update(  {word : len(df_src[df_src[trg_col].apply(lambda x: word in x)])/len(df_src)} )\n",
    "        sorted_word_pct_dict = sorted(word_pct_dict.items(), key=lambda x:x[1], reverse=True)\n",
    "    return sorted_word_pct_dict\n",
    "\n",
    "def flattened_list(lst):\n",
    "    flattened_lst = [item for sublist in lst for item in sublist]\n",
    "    return flattened_lst"
   ]
  },
  {
   "cell_type": "code",
   "execution_count": 3,
   "id": "7022bec0-207c-4b34-905f-ac5db9cdaf8b",
   "metadata": {},
   "outputs": [],
   "source": [
    "df = pd.read_parquet('df_qesg28_final_time.pq')"
   ]
  },
  {
   "cell_type": "markdown",
   "id": "215ef4ff-10b3-4aa3-b942-0e72f633a4b8",
   "metadata": {},
   "source": [
    "# 전체 기준으로 단어 빈도 "
   ]
  },
  {
   "cell_type": "code",
   "execution_count": 4,
   "id": "09ea581b-3efd-4c73-b8ce-6730b2769db5",
   "metadata": {},
   "outputs": [
    {
     "name": "stdout",
     "output_type": "stream",
     "text": [
      "total : 106164\n"
     ]
    },
    {
     "data": {
      "application/vnd.jupyter.widget-view+json": {
       "model_id": "4ef602a928904aa8bfdf1a5cbd9a8058",
       "version_major": 2,
       "version_minor": 0
      },
      "text/plain": [
       "  0%|          | 0/106164 [00:00<?, ?it/s]"
      ]
     },
     "metadata": {},
     "output_type": "display_data"
    }
   ],
   "source": [
    "df_temp = split_word_df(df)"
   ]
  },
  {
   "cell_type": "code",
   "execution_count": 5,
   "id": "cfb79035-67c2-44ad-8ce8-b8cc4177e51b",
   "metadata": {},
   "outputs": [],
   "source": [
    "# 저장\n",
    "df_temp= df_temp.reset_index(drop= False)\n",
    "df_temp.to_parquet('df_temp.pq')"
   ]
  },
  {
   "cell_type": "markdown",
   "id": "dd62180c-478d-4cb5-9ee8-1a7dd5dd0e48",
   "metadata": {},
   "source": [
    "# Load Data"
   ]
  },
  {
   "cell_type": "code",
   "execution_count": 6,
   "id": "4e6bd24b-8452-44b3-acd9-428d3211f43f",
   "metadata": {},
   "outputs": [],
   "source": [
    "df_temp = pd.read_parquet('df_temp.pq')"
   ]
  },
  {
   "cell_type": "markdown",
   "id": "1270b503-bf8f-4871-8ba8-8487104feb97",
   "metadata": {},
   "source": [
    "## 전체 코퍼스 만들기"
   ]
  },
  {
   "cell_type": "code",
   "execution_count": 7,
   "id": "63b8d382-1592-4afd-963c-a6359d3ae46d",
   "metadata": {},
   "outputs": [
    {
     "data": {
      "application/vnd.jupyter.widget-view+json": {
       "model_id": "7f56d182393644ada978ebf9140d0113",
       "version_major": 2,
       "version_minor": 0
      },
      "text/plain": [
       "  0%|          | 0/106164 [00:00<?, ?it/s]"
      ]
     },
     "metadata": {},
     "output_type": "display_data"
    },
    {
     "name": "stdout",
     "output_type": "stream",
     "text": [
      "99688\n"
     ]
    }
   ],
   "source": [
    "# loop 로 전체 코퍼스 만들기\n",
    "corpus = []\n",
    "for val in tqdm(df_temp.words):\n",
    "    corpus += list(val)\n",
    "\n",
    "corpus= list(set(corpus))\n",
    "print(len(corpus))"
   ]
  },
  {
   "cell_type": "code",
   "execution_count": 8,
   "id": "ee376fef-c258-43bb-8239-a01835547084",
   "metadata": {
    "tags": []
   },
   "outputs": [
    {
     "data": {
      "text/plain": [
       "\"\\n# 전체에서 90% 이상 나오는 단어는 제거 \\ndf_trg = df_temp\\n# 단어 리스트 \\nword_set = []\\nfor i , row in tqdm(df_trg.iterrows()):\\n    word_set += list(set(row.words))\\nword_set = list(set(word_set))\\n    \\n\\nprint(len(word_set))\\ncount_mat = np.zeros_like(word_set , dtype = 'int32')\\nfor i , word in tqdm(enumerate(word_set)):\\n    for k , row in df_trg.iterrows():\\n        if word in row.words:\\n            count_mat[i] += 1 \\n\""
      ]
     },
     "execution_count": 8,
     "metadata": {},
     "output_type": "execute_result"
    }
   ],
   "source": [
    "## 오래 걸려서 안씀\n",
    "'''\n",
    "# 전체에서 90% 이상 나오는 단어는 제거 \n",
    "df_trg = df_temp\n",
    "# 단어 리스트 \n",
    "word_set = []\n",
    "for i , row in tqdm(df_trg.iterrows()):\n",
    "    word_set += list(set(row.words))\n",
    "word_set = list(set(word_set))\n",
    "    \n",
    "\n",
    "print(len(word_set))\n",
    "count_mat = np.zeros_like(word_set , dtype = 'int32')\n",
    "for i , word in tqdm(enumerate(word_set)):\n",
    "    for k , row in df_trg.iterrows():\n",
    "        if word in row.words:\n",
    "            count_mat[i] += 1 \n",
    "'''"
   ]
  },
  {
   "cell_type": "markdown",
   "id": "d28d2337-a31d-4323-a065-c4ad9af657f8",
   "metadata": {},
   "source": [
    "# 특정 카테고리 기준으로 단어 빈도 "
   ]
  },
  {
   "cell_type": "code",
   "execution_count": 9,
   "id": "f859cbad",
   "metadata": {},
   "outputs": [
    {
     "data": {
      "text/html": [
       "<div>\n",
       "<style scoped>\n",
       "    .dataframe tbody tr th:only-of-type {\n",
       "        vertical-align: middle;\n",
       "    }\n",
       "\n",
       "    .dataframe tbody tr th {\n",
       "        vertical-align: top;\n",
       "    }\n",
       "\n",
       "    .dataframe thead th {\n",
       "        text-align: right;\n",
       "    }\n",
       "</style>\n",
       "<table border=\"1\" class=\"dataframe\">\n",
       "  <thead>\n",
       "    <tr style=\"text-align: right;\">\n",
       "      <th></th>\n",
       "      <th>id</th>\n",
       "      <th>keyword</th>\n",
       "      <th>time</th>\n",
       "      <th>title</th>\n",
       "      <th>link</th>\n",
       "      <th>contents</th>\n",
       "      <th>y</th>\n",
       "      <th>contents_clean</th>\n",
       "      <th>words</th>\n",
       "    </tr>\n",
       "  </thead>\n",
       "  <tbody>\n",
       "    <tr>\n",
       "      <th>0</th>\n",
       "      <td>5</td>\n",
       "      <td>삼성전자</td>\n",
       "      <td>2020-05-11 20:50:52</td>\n",
       "      <td>[OA칼럼] 삼성전자, D램 EUV 공정 적용 의미와 전망은</td>\n",
       "      <td>http://www.thelec.kr/news/articleView.html?idx...</td>\n",
       "      <td>파운드리 사업과 장비 사용 공유\\n\\n편집자 주 : 전자부품 전문미디어 디일렉은 미...</td>\n",
       "      <td>제외</td>\n",
       "      <td>파운드리 사업과 장비 사용 공유편집자 주 전자부품 전문미디어 디일렉은 미국 메모리 ...</td>\n",
       "      <td>[파운드리, 사업, 장비, 사용, 공유, 편집자, 전자, 부품, 전문, 미디어, 미...</td>\n",
       "    </tr>\n",
       "    <tr>\n",
       "      <th>1</th>\n",
       "      <td>13</td>\n",
       "      <td>삼성전자</td>\n",
       "      <td>2020-05-11 03:51:02</td>\n",
       "      <td>애플은 더 싸게 내놓고, 교체수요는 뚝… 위기의 삼성폰</td>\n",
       "      <td>https://news.chosun.com/site/data/html_dir/202...</td>\n",
       "      <td>삼성전자 스마트폰 사업에 위기감이 높아지고 있다. 코로나 팬데믹(대유행)에 직격탄을...</td>\n",
       "      <td>제외</td>\n",
       "      <td>삼성전자 스마트폰 사업에 위기감이 높아지고 있다. 코로나 팬데믹에 직격탄을 맞아 판...</td>\n",
       "      <td>[삼성전자, 스마트폰, 사업, 위기감, 코로나, 팬데, 직격탄, 판매량, 급감, 최...</td>\n",
       "    </tr>\n",
       "    <tr>\n",
       "      <th>2</th>\n",
       "      <td>18</td>\n",
       "      <td>삼성전자</td>\n",
       "      <td>2020-05-11 13:51:02</td>\n",
       "      <td>5주년 맞은 삼성페이의 진화... 비대면 결제시장서 '기회'</td>\n",
       "      <td>http://biz.newdaily.co.kr/site/data/html/2020/...</td>\n",
       "      <td>삼성전자는 지난 2015년 상반기 플래그십폰 갤럭시S6 출시를 한달 여 앞둔 상황에...</td>\n",
       "      <td>제외</td>\n",
       "      <td>삼성전자는 지난 2015년 상반기 플래그십폰 갤럭시s6 출시를 한달 여 앞둔 상황에...</td>\n",
       "      <td>[삼성전자, 상반기, 플래그, 갤럭시, 출시, 상황, 미국, 모바일, 결제, 솔루션...</td>\n",
       "    </tr>\n",
       "    <tr>\n",
       "      <th>3</th>\n",
       "      <td>19</td>\n",
       "      <td>삼성전자</td>\n",
       "      <td>2020-05-11 08:51:02</td>\n",
       "      <td>`경영권 불승계`…\"삼성물산·전자, 기업가치 재평가 기대\"</td>\n",
       "      <td>https://www.edaily.co.kr/news/read?newsId=0144...</td>\n",
       "      <td>[이데일리 김재은 기자] 미래에셋대우는 11일 삼성물산(028260) 삼성전자(00...</td>\n",
       "      <td>주주가치보호</td>\n",
       "      <td>미래에셋대우는 11일 삼성물산 삼성전자 등 삼성그룹주의 기업가치 재평가가 기대된다고...</td>\n",
       "      <td>[미래, 대우, 삼성물산, 삼성전자, 삼성그룹, 기업, 가치, 재평가, 기대, 이재...</td>\n",
       "    </tr>\n",
       "    <tr>\n",
       "      <th>4</th>\n",
       "      <td>30</td>\n",
       "      <td>삼성전자</td>\n",
       "      <td>2020-05-10 00:00:00</td>\n",
       "      <td>이건희 회장 병상 6년… 이재용표 '뉴 삼성' 도약할까</td>\n",
       "      <td>https://www.seoul.co.kr/news/newsView.php?id=2...</td>\n",
       "      <td>李 회장 여전히 의식 없지만 자가 호흡\\n\\n▲ 이재용 삼성전자 부회장.\\n\\n연합...</td>\n",
       "      <td>소유구조</td>\n",
       "      <td>회장 여전히 의식 없지만 자가 호흡 이재용 삼성전자 부회장.이건희 삼성전자 회장이 ...</td>\n",
       "      <td>[회장, 의식, 호흡, 이재용, 삼성전자, 부회장, 이건희, 삼성전자, 회장, 병상...</td>\n",
       "    </tr>\n",
       "    <tr>\n",
       "      <th>...</th>\n",
       "      <td>...</td>\n",
       "      <td>...</td>\n",
       "      <td>...</td>\n",
       "      <td>...</td>\n",
       "      <td>...</td>\n",
       "      <td>...</td>\n",
       "      <td>...</td>\n",
       "      <td>...</td>\n",
       "      <td>...</td>\n",
       "    </tr>\n",
       "    <tr>\n",
       "      <th>106159</th>\n",
       "      <td>350816</td>\n",
       "      <td>한국동서발전</td>\n",
       "      <td>2021-04-28 16:23:37</td>\n",
       "      <td>한국동서발전, 일회용품 안쓰기 캠페인 실시…\"환경 지키기 앞장\"</td>\n",
       "      <td>https://www.mk.co.kr/news/business/view/2021/0...</td>\n",
       "      <td>\\n\\n임직원들이 `일회용품 안쓰기로 지구살리기` 캠페인을 시행하고 있다. [사진 ...</td>\n",
       "      <td>자원순환</td>\n",
       "      <td>임직원들이 일회용품 안쓰기로 지구살리기 캠페인을 시행하고 있다.</td>\n",
       "      <td>[임직원, 일회용품, 지구, 캠페인, 시행]</td>\n",
       "    </tr>\n",
       "    <tr>\n",
       "      <th>106160</th>\n",
       "      <td>350817</td>\n",
       "      <td>한국동서발전</td>\n",
       "      <td>2021-04-28 16:17:38</td>\n",
       "      <td>[탄소중립 결의] \"경제성장·기후환경 두 마리 토끼 잡는다 ...</td>\n",
       "      <td>https://www.ekn.kr/web/view.php?key=2021042701...</td>\n",
       "      <td>▲이학영 국회 산업통상자원중소벤처기업위원회 위원장이 28일 서울 여의도 중소기업중앙...</td>\n",
       "      <td>에너지및온실가스</td>\n",
       "      <td>이학영 국회 산업통상자원중소벤처기업위원회 위원장이 28일 서울 여의도 중소기업중앙회...</td>\n",
       "      <td>[이학영, 국회, 산업, 통상, 자원, 중소, 벤처, 기업, 위원회, 위원장, 서울...</td>\n",
       "    </tr>\n",
       "    <tr>\n",
       "      <th>106161</th>\n",
       "      <td>350820</td>\n",
       "      <td>한국동서발전</td>\n",
       "      <td>2021-04-28 10:35:40</td>\n",
       "      <td>[시사일보] 수원시 영통구 망포2동 '미래세대를 위한 작은 실천 ...</td>\n",
       "      <td>http://www.koreasisailbo.com/274728</td>\n",
       "      <td>망포2동‘미래세대를 위한 작은 실천’캠페인  [시사일보=최승곤 기자] 수원시 영통...</td>\n",
       "      <td>제외</td>\n",
       "      <td>망포2동미래세대를 위한 작은 실천캠페인 수원시 영통구 망포2동 주민자치위원회가 지속...</td>\n",
       "      <td>[망포, 미래, 세대, 실천, 캠페인, 수원시, 영통구, 망포, 주민, 자치, 위원...</td>\n",
       "    </tr>\n",
       "    <tr>\n",
       "      <th>106162</th>\n",
       "      <td>350827</td>\n",
       "      <td>기업은행</td>\n",
       "      <td>2021-04-28 10:38:15</td>\n",
       "      <td>IB캐피탈, 한부모 거주시설에 차량 2대 기증...소외계층 돕는다</td>\n",
       "      <td>http://www.babytimes.co.kr/news/articleView.ht...</td>\n",
       "      <td>IBK캐피탈 최현숙(왼쪽) 대표와 대한사회복지회 김석현(오른쪽) 회장(사진=IBK기...</td>\n",
       "      <td>사회공헌</td>\n",
       "      <td>ibk캐피탈 최현숙 대표와 대한사회복지회 김석현 회장 ibk기업은행의 자회사 ibk...</td>\n",
       "      <td>[캐피탈, 최현숙, 대표, 대한, 사회, 복지, 김석현, 회장, 기업, 은행, 자회...</td>\n",
       "    </tr>\n",
       "    <tr>\n",
       "      <th>106163</th>\n",
       "      <td>350829</td>\n",
       "      <td>기업은행</td>\n",
       "      <td>2021-04-28 08:38:27</td>\n",
       "      <td>경남은행, 기업금융지점장 RM 채용</td>\n",
       "      <td>http://www.shinailbo.co.kr/news/articleView.ht...</td>\n",
       "      <td>내달 7일 오후 6시까지 지원서 이메일 접수\\n\\n(자료=경남은행)\\n\\nBNK경남...</td>\n",
       "      <td>제외</td>\n",
       "      <td>내달 7일 오후 6시까지 지원서 이메일 접수bnk경남은행이 수도권지역 여신영업 등을...</td>\n",
       "      <td>[내달, 오후, 지원서, 이메일, 접수, 경남은행, 수도, 지역, 여신, 영업, 담...</td>\n",
       "    </tr>\n",
       "  </tbody>\n",
       "</table>\n",
       "<p>106164 rows × 9 columns</p>\n",
       "</div>"
      ],
      "text/plain": [
       "            id keyword                 time  \\\n",
       "0            5    삼성전자  2020-05-11 20:50:52   \n",
       "1           13    삼성전자  2020-05-11 03:51:02   \n",
       "2           18    삼성전자  2020-05-11 13:51:02   \n",
       "3           19    삼성전자  2020-05-11 08:51:02   \n",
       "4           30    삼성전자  2020-05-10 00:00:00   \n",
       "...        ...     ...                  ...   \n",
       "106159  350816  한국동서발전  2021-04-28 16:23:37   \n",
       "106160  350817  한국동서발전  2021-04-28 16:17:38   \n",
       "106161  350820  한국동서발전  2021-04-28 10:35:40   \n",
       "106162  350827    기업은행  2021-04-28 10:38:15   \n",
       "106163  350829    기업은행  2021-04-28 08:38:27   \n",
       "\n",
       "                                          title  \\\n",
       "0             [OA칼럼] 삼성전자, D램 EUV 공정 적용 의미와 전망은   \n",
       "1                애플은 더 싸게 내놓고, 교체수요는 뚝… 위기의 삼성폰   \n",
       "2             5주년 맞은 삼성페이의 진화... 비대면 결제시장서 '기회'   \n",
       "3              `경영권 불승계`…\"삼성물산·전자, 기업가치 재평가 기대\"   \n",
       "4                이건희 회장 병상 6년… 이재용표 '뉴 삼성' 도약할까   \n",
       "...                                         ...   \n",
       "106159      한국동서발전, 일회용품 안쓰기 캠페인 실시…\"환경 지키기 앞장\"   \n",
       "106160     [탄소중립 결의] \"경제성장·기후환경 두 마리 토끼 잡는다 ...   \n",
       "106161  [시사일보] 수원시 영통구 망포2동 '미래세대를 위한 작은 실천 ...   \n",
       "106162     IB캐피탈, 한부모 거주시설에 차량 2대 기증...소외계층 돕는다   \n",
       "106163                      경남은행, 기업금융지점장 RM 채용   \n",
       "\n",
       "                                                     link  \\\n",
       "0       http://www.thelec.kr/news/articleView.html?idx...   \n",
       "1       https://news.chosun.com/site/data/html_dir/202...   \n",
       "2       http://biz.newdaily.co.kr/site/data/html/2020/...   \n",
       "3       https://www.edaily.co.kr/news/read?newsId=0144...   \n",
       "4       https://www.seoul.co.kr/news/newsView.php?id=2...   \n",
       "...                                                   ...   \n",
       "106159  https://www.mk.co.kr/news/business/view/2021/0...   \n",
       "106160  https://www.ekn.kr/web/view.php?key=2021042701...   \n",
       "106161                http://www.koreasisailbo.com/274728   \n",
       "106162  http://www.babytimes.co.kr/news/articleView.ht...   \n",
       "106163  http://www.shinailbo.co.kr/news/articleView.ht...   \n",
       "\n",
       "                                                 contents         y  \\\n",
       "0       파운드리 사업과 장비 사용 공유\\n\\n편집자 주 : 전자부품 전문미디어 디일렉은 미...        제외   \n",
       "1       삼성전자 스마트폰 사업에 위기감이 높아지고 있다. 코로나 팬데믹(대유행)에 직격탄을...        제외   \n",
       "2       삼성전자는 지난 2015년 상반기 플래그십폰 갤럭시S6 출시를 한달 여 앞둔 상황에...        제외   \n",
       "3       [이데일리 김재은 기자] 미래에셋대우는 11일 삼성물산(028260) 삼성전자(00...    주주가치보호   \n",
       "4       李 회장 여전히 의식 없지만 자가 호흡\\n\\n▲ 이재용 삼성전자 부회장.\\n\\n연합...      소유구조   \n",
       "...                                                   ...       ...   \n",
       "106159  \\n\\n임직원들이 `일회용품 안쓰기로 지구살리기` 캠페인을 시행하고 있다. [사진 ...      자원순환   \n",
       "106160  ▲이학영 국회 산업통상자원중소벤처기업위원회 위원장이 28일 서울 여의도 중소기업중앙...  에너지및온실가스   \n",
       "106161   망포2동‘미래세대를 위한 작은 실천’캠페인  [시사일보=최승곤 기자] 수원시 영통...        제외   \n",
       "106162  IBK캐피탈 최현숙(왼쪽) 대표와 대한사회복지회 김석현(오른쪽) 회장(사진=IBK기...      사회공헌   \n",
       "106163  내달 7일 오후 6시까지 지원서 이메일 접수\\n\\n(자료=경남은행)\\n\\nBNK경남...        제외   \n",
       "\n",
       "                                           contents_clean  \\\n",
       "0       파운드리 사업과 장비 사용 공유편집자 주 전자부품 전문미디어 디일렉은 미국 메모리 ...   \n",
       "1       삼성전자 스마트폰 사업에 위기감이 높아지고 있다. 코로나 팬데믹에 직격탄을 맞아 판...   \n",
       "2       삼성전자는 지난 2015년 상반기 플래그십폰 갤럭시s6 출시를 한달 여 앞둔 상황에...   \n",
       "3       미래에셋대우는 11일 삼성물산 삼성전자 등 삼성그룹주의 기업가치 재평가가 기대된다고...   \n",
       "4       회장 여전히 의식 없지만 자가 호흡 이재용 삼성전자 부회장.이건희 삼성전자 회장이 ...   \n",
       "...                                                   ...   \n",
       "106159                임직원들이 일회용품 안쓰기로 지구살리기 캠페인을 시행하고 있다.   \n",
       "106160  이학영 국회 산업통상자원중소벤처기업위원회 위원장이 28일 서울 여의도 중소기업중앙회...   \n",
       "106161  망포2동미래세대를 위한 작은 실천캠페인 수원시 영통구 망포2동 주민자치위원회가 지속...   \n",
       "106162  ibk캐피탈 최현숙 대표와 대한사회복지회 김석현 회장 ibk기업은행의 자회사 ibk...   \n",
       "106163  내달 7일 오후 6시까지 지원서 이메일 접수bnk경남은행이 수도권지역 여신영업 등을...   \n",
       "\n",
       "                                                    words  \n",
       "0       [파운드리, 사업, 장비, 사용, 공유, 편집자, 전자, 부품, 전문, 미디어, 미...  \n",
       "1       [삼성전자, 스마트폰, 사업, 위기감, 코로나, 팬데, 직격탄, 판매량, 급감, 최...  \n",
       "2       [삼성전자, 상반기, 플래그, 갤럭시, 출시, 상황, 미국, 모바일, 결제, 솔루션...  \n",
       "3       [미래, 대우, 삼성물산, 삼성전자, 삼성그룹, 기업, 가치, 재평가, 기대, 이재...  \n",
       "4       [회장, 의식, 호흡, 이재용, 삼성전자, 부회장, 이건희, 삼성전자, 회장, 병상...  \n",
       "...                                                   ...  \n",
       "106159                           [임직원, 일회용품, 지구, 캠페인, 시행]  \n",
       "106160  [이학영, 국회, 산업, 통상, 자원, 중소, 벤처, 기업, 위원회, 위원장, 서울...  \n",
       "106161  [망포, 미래, 세대, 실천, 캠페인, 수원시, 영통구, 망포, 주민, 자치, 위원...  \n",
       "106162  [캐피탈, 최현숙, 대표, 대한, 사회, 복지, 김석현, 회장, 기업, 은행, 자회...  \n",
       "106163  [내달, 오후, 지원서, 이메일, 접수, 경남은행, 수도, 지역, 여신, 영업, 담...  \n",
       "\n",
       "[106164 rows x 9 columns]"
      ]
     },
     "execution_count": 9,
     "metadata": {},
     "output_type": "execute_result"
    }
   ],
   "source": [
    "df"
   ]
  },
  {
   "cell_type": "code",
   "execution_count": 10,
   "id": "8a2e6544-db5b-4b31-8a6d-762eaf1551e7",
   "metadata": {},
   "outputs": [],
   "source": [
    "# 기간 지정 및 제외 기타 제거 \n",
    "df = df_temp\n",
    "df_sm = df.loc[df.contents_clean != '']\\\n",
    "    .loc[df.y != '제외']\\\n",
    "    .loc[df.y != '기타']\\\n",
    "#    .loc[df.time < '2021-04-28']\\\n",
    "#    .loc[df.time > '2020-01-01']"
   ]
  },
  {
   "cell_type": "code",
   "execution_count": 11,
   "id": "551e68f6-47dc-47a9-8b28-5ffbebc30c67",
   "metadata": {},
   "outputs": [
    {
     "data": {
      "text/plain": [
       "에너지및온실가스       8005\n",
       "인적자원관리         7116\n",
       "사회공헌           6735\n",
       "소유구조           5893\n",
       "제품/서비스         3598\n",
       "ESG거버넌스        2939\n",
       "공급망관리          2644\n",
       "사업장안전및보건       2245\n",
       "내부통제/투명성       1981\n",
       "소비자보호          1929\n",
       "이사회구성과운영       1852\n",
       "지역사회영향         1754\n",
       "공정거래           1659\n",
       "자원순환           1280\n",
       "계열회사와의거래        863\n",
       "감사기구            637\n",
       "주주가치보호          609\n",
       "이익배분            484\n",
       "인권              431\n",
       "대기오염            251\n",
       "환경관리체계          208\n",
       "공시              203\n",
       "수질오염            104\n",
       "화학물질배출           83\n",
       "친환경제품/서비스개발      79\n",
       "생물다양성            54\n",
       "기타오염             33\n",
       "토양오염             15\n",
       "Name: y, dtype: int64"
      ]
     },
     "execution_count": 11,
     "metadata": {},
     "output_type": "execute_result"
    }
   ],
   "source": [
    "df_sm.y.value_counts()"
   ]
  },
  {
   "cell_type": "markdown",
   "id": "4a482d2b-2e00-4a5c-8526-2c2ab8cd70c0",
   "metadata": {},
   "source": [
    "## 원하는 카테고리 저장"
   ]
  },
  {
   "cell_type": "code",
   "execution_count": 12,
   "id": "ea504ea9-d5e1-4933-a005-8755ec55be81",
   "metadata": {},
   "outputs": [],
   "source": [
    "df_trg = df.loc[df.y == '환경관리체계']\n",
    "df_trg.to_excel('환경관리체계.xlsx') \n",
    "#df_trg = pd.read_excel('환경관리체계.xlsx', index_col= 0)"
   ]
  },
  {
   "cell_type": "code",
   "execution_count": 13,
   "id": "0848a504-30b5-47f9-bb0a-e58811bcc2e9",
   "metadata": {},
   "outputs": [],
   "source": [
    "df_trg = df.loc[ df.y == '환경관리체계']\n"
   ]
  },
  {
   "cell_type": "markdown",
   "id": "37bede49-c535-4e1c-8d21-47d74de5ce77",
   "metadata": {
    "tags": []
   },
   "source": [
    "# 토크나이저 \n",
    "- 단어별 등장 빈도로 필터링 하려 했으나, 사용하지 않음. "
   ]
  },
  {
   "cell_type": "code",
   "execution_count": 14,
   "id": "f4182be6-45aa-43f7-9be3-19396c8265cf",
   "metadata": {},
   "outputs": [
    {
     "name": "stdout",
     "output_type": "stream",
     "text": [
      "4550\n"
     ]
    },
    {
     "data": {
      "application/vnd.jupyter.widget-view+json": {
       "model_id": "1e09fec9f2d246df8d75a30ab1ce6e1d",
       "version_major": 2,
       "version_minor": 0
      },
      "text/plain": [
       "0it [00:00, ?it/s]"
      ]
     },
     "metadata": {},
     "output_type": "display_data"
    }
   ],
   "source": [
    "# 전체에서 90% 이상 나오는 단어는 제거 \n",
    "\n",
    "# 단어 리스트 \n",
    "word_set = []\n",
    "for i , row in df_trg.iterrows():\n",
    "    word_set += list(set(row.words))\n",
    "\n",
    "word_set = list(set(word_set))\n",
    "    \n",
    "print(len(word_set))\n",
    "count_mat = np.zeros_like(word_set , dtype = 'int32')\n",
    "for i , word in tqdm(enumerate(word_set)):\n",
    "    for k , row in df_trg.iterrows():\n",
    "        if word in row.words:\n",
    "            count_mat[i] += 1 \n",
    "        \n",
    "\n",
    "    "
   ]
  },
  {
   "cell_type": "code",
   "execution_count": 15,
   "id": "8c5588f6-bb3b-4c5b-82e5-c2982cec3b51",
   "metadata": {},
   "outputs": [],
   "source": [
    "doc_count = len(df_trg) # total doc count \n",
    "ratio_mat = count_mat / doc_count # 뉴스 1개 등장 비율/ 전체 문서 등장 비율"
   ]
  },
  {
   "cell_type": "code",
   "execution_count": 16,
   "id": "cd9ff3cc-d819-4c85-8ff7-a7ac2684475e",
   "metadata": {},
   "outputs": [],
   "source": [
    "# 단어별 TF / IDF 데이터 프레임화\n",
    "df_ratio = pd.DataFrame()\n",
    "df_ratio['word']  = word_set\n",
    "df_ratio['ratio'] = ratio_mat"
   ]
  },
  {
   "cell_type": "code",
   "execution_count": 17,
   "id": "b09dc97f-300d-4851-8bf6-913bb131487b",
   "metadata": {},
   "outputs": [
    {
     "name": "stdout",
     "output_type": "stream",
     "text": [
      "0.5320574162679427\n"
     ]
    }
   ],
   "source": [
    "# 단어중 최빈도 단어의 비율 * 80 의 비율값\n",
    "df_ratio_top = df_ratio.loc[df_ratio.ratio >= 0.8* df_ratio.ratio.max() ]\n",
    "print(0.8* df_ratio.ratio.max())"
   ]
  },
  {
   "cell_type": "code",
   "execution_count": 18,
   "id": "d94b24bf-429f-4266-9fc2-e84574490fc9",
   "metadata": {},
   "outputs": [],
   "source": [
    "# 단어중 최빈도 단어의 비율 * 80 이상의 비율을 가진 단어 제거 \n",
    "df_ratio_cuttop = df_ratio.loc[df_ratio.ratio < 0.9* df_ratio.ratio.max() ]"
   ]
  },
  {
   "cell_type": "code",
   "execution_count": 19,
   "id": "f00f5865-e166-4ff4-8a71-6bcc770a84cc",
   "metadata": {},
   "outputs": [
    {
     "data": {
      "text/html": [
       "<div>\n",
       "<style scoped>\n",
       "    .dataframe tbody tr th:only-of-type {\n",
       "        vertical-align: middle;\n",
       "    }\n",
       "\n",
       "    .dataframe tbody tr th {\n",
       "        vertical-align: top;\n",
       "    }\n",
       "\n",
       "    .dataframe thead th {\n",
       "        text-align: right;\n",
       "    }\n",
       "</style>\n",
       "<table border=\"1\" class=\"dataframe\">\n",
       "  <thead>\n",
       "    <tr style=\"text-align: right;\">\n",
       "      <th></th>\n",
       "      <th>word</th>\n",
       "      <th>ratio</th>\n",
       "    </tr>\n",
       "  </thead>\n",
       "  <tbody>\n",
       "    <tr>\n",
       "      <th>26</th>\n",
       "      <td>기업</td>\n",
       "      <td>0.583732</td>\n",
       "    </tr>\n",
       "    <tr>\n",
       "      <th>3295</th>\n",
       "      <td>경영</td>\n",
       "      <td>0.516746</td>\n",
       "    </tr>\n",
       "    <tr>\n",
       "      <th>3440</th>\n",
       "      <td>에너지</td>\n",
       "      <td>0.488038</td>\n",
       "    </tr>\n",
       "    <tr>\n",
       "      <th>2440</th>\n",
       "      <td>투자</td>\n",
       "      <td>0.473684</td>\n",
       "    </tr>\n",
       "    <tr>\n",
       "      <th>4395</th>\n",
       "      <td>계획</td>\n",
       "      <td>0.454545</td>\n",
       "    </tr>\n",
       "    <tr>\n",
       "      <th>...</th>\n",
       "      <td>...</td>\n",
       "      <td>...</td>\n",
       "    </tr>\n",
       "    <tr>\n",
       "      <th>1985</th>\n",
       "      <td>초석</td>\n",
       "      <td>0.004785</td>\n",
       "    </tr>\n",
       "    <tr>\n",
       "      <th>1986</th>\n",
       "      <td>준원</td>\n",
       "      <td>0.004785</td>\n",
       "    </tr>\n",
       "    <tr>\n",
       "      <th>1987</th>\n",
       "      <td>주범</td>\n",
       "      <td>0.004785</td>\n",
       "    </tr>\n",
       "    <tr>\n",
       "      <th>1988</th>\n",
       "      <td>고부</td>\n",
       "      <td>0.004785</td>\n",
       "    </tr>\n",
       "    <tr>\n",
       "      <th>4549</th>\n",
       "      <td>남기찬</td>\n",
       "      <td>0.004785</td>\n",
       "    </tr>\n",
       "  </tbody>\n",
       "</table>\n",
       "<p>4547 rows × 2 columns</p>\n",
       "</div>"
      ],
      "text/plain": [
       "     word     ratio\n",
       "26     기업  0.583732\n",
       "3295   경영  0.516746\n",
       "3440  에너지  0.488038\n",
       "2440   투자  0.473684\n",
       "4395   계획  0.454545\n",
       "...   ...       ...\n",
       "1985   초석  0.004785\n",
       "1986   준원  0.004785\n",
       "1987   주범  0.004785\n",
       "1988   고부  0.004785\n",
       "4549  남기찬  0.004785\n",
       "\n",
       "[4547 rows x 2 columns]"
      ]
     },
     "execution_count": 19,
     "metadata": {},
     "output_type": "execute_result"
    }
   ],
   "source": [
    "df_ratio_cuttop.sort_values(by = 'ratio', ascending=False)"
   ]
  },
  {
   "cell_type": "code",
   "execution_count": null,
   "id": "1aad59fd",
   "metadata": {},
   "outputs": [],
   "source": []
  },
  {
   "cell_type": "code",
   "execution_count": null,
   "id": "0511ec02",
   "metadata": {},
   "outputs": [],
   "source": []
  }
 ],
 "metadata": {
  "kernelspec": {
   "display_name": "Python 3 (ipykernel)",
   "language": "python",
   "name": "python3"
  },
  "language_info": {
   "codemirror_mode": {
    "name": "ipython",
    "version": 3
   },
   "file_extension": ".py",
   "mimetype": "text/x-python",
   "name": "python",
   "nbconvert_exporter": "python",
   "pygments_lexer": "ipython3",
   "version": "3.9.7"
  },
  "toc": {
   "base_numbering": 1,
   "nav_menu": {},
   "number_sections": true,
   "sideBar": true,
   "skip_h1_title": false,
   "title_cell": "Table of Contents",
   "title_sidebar": "Contents",
   "toc_cell": false,
   "toc_position": {},
   "toc_section_display": true,
   "toc_window_display": false
  },
  "vscode": {
   "interpreter": {
    "hash": "555f430c305a76c496bd3475eb4be18e1c1234748ee90799ec8c1565c6cdc212"
   }
  }
 },
 "nbformat": 4,
 "nbformat_minor": 5
}

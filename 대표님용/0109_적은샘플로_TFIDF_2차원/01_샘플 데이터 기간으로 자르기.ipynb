{
 "cells": [
  {
   "cell_type": "code",
   "execution_count": 1,
   "id": "a7bbd575-a617-4a5b-b980-43146e02fcab",
   "metadata": {},
   "outputs": [],
   "source": [
    "import pandas as pd\n",
    "from konlpy.tag import Mecab\n",
    "from functools import *\n",
    "from collections import Counter\n",
    "import numpy as np\n",
    "from tqdm.auto import tqdm"
   ]
  },
  {
   "cell_type": "code",
   "execution_count": 2,
   "id": "4da5cb4a-ed19-46e8-be5d-c0cd59d4ff14",
   "metadata": {},
   "outputs": [],
   "source": [
    "def get_word(res):\n",
    "    res_w = []\n",
    "    for word in res:\n",
    "        if len(word) < 2:\n",
    "            continue\n",
    "        else:\n",
    "            res_w.append(word)\n",
    "    return res_w\n",
    "\n",
    "tokenizer = Mecab(dicpath=r\"C:\\Mecab\\mecab-ko-dic\")\n",
    "\n",
    "def split_word_df(df_trg):\n",
    "    res_list = []\n",
    "    print(f'total : {len(df_trg)}')\n",
    "    for content in tqdm(df_trg.contents_clean):\n",
    "        res = tokenizer.nouns(content)\n",
    "        res = get_word(res)\n",
    "        res_list.append(res)\n",
    "    df_trg['words'] = res_list\n",
    "    return df_trg\n",
    "\n",
    "def get_word_pct_dict(lst_word , df_src , trg_col):\n",
    "    word_pct_dict = {}\n",
    "    for word in tqdm(lst_word):\n",
    "        word_pct_dict.update(  {word : len(df_src[df_src[trg_col].apply(lambda x: word in x)])/len(df_src)} )\n",
    "        sorted_word_pct_dict = sorted(word_pct_dict.items(), key=lambda x:x[1], reverse=True)\n",
    "    return sorted_word_pct_dict\n",
    "\n",
    "def flattened_list(lst):\n",
    "    flattened_lst = [item for sublist in lst for item in sublist]\n",
    "    return flattened_lst"
   ]
  },
  {
   "cell_type": "code",
   "execution_count": 3,
   "id": "7022bec0-207c-4b34-905f-ac5db9cdaf8b",
   "metadata": {},
   "outputs": [],
   "source": [
    "df = pd.read_parquet('../df_qesg28_final_time.pq')"
   ]
  },
  {
   "cell_type": "markdown",
   "id": "215ef4ff-10b3-4aa3-b942-0e72f633a4b8",
   "metadata": {},
   "source": [
    "# 전체 기준으로 단어 빈도 "
   ]
  },
  {
   "cell_type": "code",
   "execution_count": 4,
   "id": "09ea581b-3efd-4c73-b8ce-6730b2769db5",
   "metadata": {},
   "outputs": [
    {
     "name": "stdout",
     "output_type": "stream",
     "text": [
      "total : 106164\n"
     ]
    },
    {
     "data": {
      "application/vnd.jupyter.widget-view+json": {
       "model_id": "99253089539a416c9a2492f08498ad7c",
       "version_major": 2,
       "version_minor": 0
      },
      "text/plain": [
       "  0%|          | 0/106164 [00:00<?, ?it/s]"
      ]
     },
     "metadata": {},
     "output_type": "display_data"
    }
   ],
   "source": [
    "df_temp = split_word_df(df)"
   ]
  },
  {
   "cell_type": "code",
   "execution_count": 6,
   "id": "cfb79035-67c2-44ad-8ce8-b8cc4177e51b",
   "metadata": {},
   "outputs": [],
   "source": [
    "df_temp= df_temp.reset_index(drop= False)\n",
    "df_temp.to_parquet('df_temp.pq')"
   ]
  },
  {
   "cell_type": "markdown",
   "id": "dd62180c-478d-4cb5-9ee8-1a7dd5dd0e48",
   "metadata": {},
   "source": [
    "# Load Data"
   ]
  },
  {
   "cell_type": "code",
   "execution_count": 7,
   "id": "4e6bd24b-8452-44b3-acd9-428d3211f43f",
   "metadata": {},
   "outputs": [],
   "source": [
    "df_temp = pd.read_parquet('df_temp.pq')"
   ]
  },
  {
   "cell_type": "code",
   "execution_count": 12,
   "id": "63b8d382-1592-4afd-963c-a6359d3ae46d",
   "metadata": {},
   "outputs": [
    {
     "data": {
      "application/vnd.jupyter.widget-view+json": {
       "model_id": "61ea470f4104477cbeba1623efc9c35c",
       "version_major": 2,
       "version_minor": 0
      },
      "text/plain": [
       "  0%|          | 0/106164 [00:00<?, ?it/s]"
      ]
     },
     "metadata": {},
     "output_type": "display_data"
    },
    {
     "name": "stdout",
     "output_type": "stream",
     "text": [
      "99688\n"
     ]
    }
   ],
   "source": [
    "# loop 로 전체 코퍼스 만들기\n",
    "corpus = []\n",
    "for val in tqdm(df_temp.words):\n",
    "    corpus += list(val)\n",
    "\n",
    "corpus= list(set(corpus))\n",
    "print(len(corpus))"
   ]
  },
  {
   "cell_type": "code",
   "execution_count": null,
   "id": "6eb2d212-49a5-485c-b9a6-541cd2b23d60",
   "metadata": {},
   "outputs": [
    {
     "data": {
      "application/vnd.jupyter.widget-view+json": {
       "model_id": "625d055c623240ba916ea043add4e373",
       "version_major": 2,
       "version_minor": 0
      },
      "text/plain": [
       "  0%|          | 0/99688 [00:00<?, ?it/s]"
      ]
     },
     "metadata": {},
     "output_type": "display_data"
    }
   ],
   "source": [
    "res = get_word_pct_dict(corpus ,df_temp, 'words' )"
   ]
  },
  {
   "cell_type": "code",
   "execution_count": null,
   "id": "6c024927-729e-4894-adb7-6f6ce8c981b8",
   "metadata": {},
   "outputs": [],
   "source": [
    "df_src = df_temp\n",
    "trg_col = 'words'\n",
    "df_src[trg_col].apply(lambda x: word in x)"
   ]
  },
  {
   "cell_type": "code",
   "execution_count": null,
   "id": "df09833e-b3a8-4d98-b86d-51092601b767",
   "metadata": {},
   "outputs": [],
   "source": []
  },
  {
   "cell_type": "code",
   "execution_count": 13,
   "id": "5b67b476-7dc1-4332-81a4-49abfbe67cad",
   "metadata": {},
   "outputs": [],
   "source": []
  },
  {
   "cell_type": "code",
   "execution_count": null,
   "id": "35573894-64ef-4e3c-8298-f1d59f124aae",
   "metadata": {},
   "outputs": [],
   "source": []
  },
  {
   "cell_type": "code",
   "execution_count": null,
   "id": "b898e6c8-5eb9-44a1-b18b-5c7569dd46cb",
   "metadata": {},
   "outputs": [],
   "source": []
  },
  {
   "cell_type": "code",
   "execution_count": null,
   "id": "04756f6f-8a6d-4853-ac6e-d6414faed44d",
   "metadata": {},
   "outputs": [],
   "source": [
    "df_temp"
   ]
  },
  {
   "cell_type": "code",
   "execution_count": null,
   "id": "008704c8-1961-4b3e-8a56-0c2a0877aec5",
   "metadata": {},
   "outputs": [],
   "source": [
    "# 전체에서 90% 이상 나오는 단어는 제거 \n",
    "df_trg = df_temp\n",
    "# 단어 리스트 \n",
    "word_set = []\n",
    "for i , row in tqdm(df_trg.iterrows()):\n",
    "    word_set += list(set(row.words))\n",
    "word_set = list(set(word_set))\n",
    "    "
   ]
  },
  {
   "cell_type": "code",
   "execution_count": null,
   "id": "3e04f4ce-c4a5-497a-8657-0e7486c76255",
   "metadata": {},
   "outputs": [
    {
     "data": {
      "application/vnd.jupyter.widget-view+json": {
       "model_id": "d3dfa7f52a314246bc012290a59f146c",
       "version_major": 2,
       "version_minor": 0
      },
      "text/plain": [
       "0it [00:00, ?it/s]"
      ]
     },
     "metadata": {},
     "output_type": "display_data"
    },
    {
     "name": "stdout",
     "output_type": "stream",
     "text": [
      "99688\n"
     ]
    },
    {
     "data": {
      "application/vnd.jupyter.widget-view+json": {
       "model_id": "8af269f931c848ff90a35e271c0a1e30",
       "version_major": 2,
       "version_minor": 0
      },
      "text/plain": [
       "0it [00:00, ?it/s]"
      ]
     },
     "metadata": {},
     "output_type": "display_data"
    }
   ],
   "source": [
    "print(len(word_set))\n",
    "count_mat = np.zeros_like(word_set , dtype = 'int32')\n",
    "for i , word in tqdm(enumerate(word_set)):\n",
    "    for k , row in df_trg.iterrows():\n",
    "        if word in row.words:\n",
    "            count_mat[i] += 1 "
   ]
  },
  {
   "cell_type": "code",
   "execution_count": null,
   "id": "d04333ca-ac20-4e79-bbc1-79e05fa8e438",
   "metadata": {},
   "outputs": [],
   "source": [
    "word_set"
   ]
  },
  {
   "cell_type": "markdown",
   "id": "d28d2337-a31d-4323-a065-c4ad9af657f8",
   "metadata": {},
   "source": [
    "# 특정 카테고리 기준으로 단어 빈도 "
   ]
  },
  {
   "cell_type": "code",
   "execution_count": 3,
   "id": "8a2e6544-db5b-4b31-8a6d-762eaf1551e7",
   "metadata": {},
   "outputs": [],
   "source": [
    "df_sm = df.loc[df.contents_clean != '']\\\n",
    "    .loc[df.y != '제외']\\\n",
    "    .loc[df.y != '기타']\\\n",
    "    .loc[df.time < '2021-04-28']\\\n",
    "    .loc[df.time > '2020-01-01']"
   ]
  },
  {
   "cell_type": "code",
   "execution_count": 4,
   "id": "551e68f6-47dc-47a9-8b28-5ffbebc30c67",
   "metadata": {},
   "outputs": [
    {
     "data": {
      "text/plain": [
       "에너지및온실가스       7708\n",
       "사회공헌           6326\n",
       "인적자원관리         5741\n",
       "소유구조           4898\n",
       "ESG거버넌스        2867\n",
       "제품/서비스         2208\n",
       "공급망관리          2044\n",
       "사업장안전및보건       1704\n",
       "내부통제/투명성       1492\n",
       "소비자보호          1449\n",
       "이사회구성과운영       1377\n",
       "지역사회영향         1373\n",
       "자원순환           1232\n",
       "공정거래           1173\n",
       "계열회사와의거래        519\n",
       "주주가치보호          463\n",
       "이익배분            416\n",
       "감사기구            375\n",
       "인권              263\n",
       "환경관리체계          202\n",
       "대기오염            167\n",
       "공시              118\n",
       "친환경제품/서비스개발      79\n",
       "수질오염             79\n",
       "생물다양성            49\n",
       "화학물질배출           34\n",
       "기타오염             22\n",
       "토양오염              6\n",
       "Name: y, dtype: int64"
      ]
     },
     "execution_count": 4,
     "metadata": {},
     "output_type": "execute_result"
    }
   ],
   "source": [
    "pd.unique(df_sm.y)\n",
    "df_sm.y.value_counts()"
   ]
  },
  {
   "cell_type": "code",
   "execution_count": 5,
   "id": "07cda2f9-a545-401e-9d7f-de9550408628",
   "metadata": {},
   "outputs": [],
   "source": [
    "df_trg = df.loc[df.y == '환경관리체계']"
   ]
  },
  {
   "cell_type": "code",
   "execution_count": 29,
   "id": "238c86a6-03b8-4df5-9acc-c340e3c9c3d2",
   "metadata": {},
   "outputs": [],
   "source": [
    "df_trg.to_excel('환경관리체계.xlsx') \n",
    "df_trg = pd.read_excel('공시.xlsx', index_col= 0)"
   ]
  },
  {
   "cell_type": "markdown",
   "id": "37bede49-c535-4e1c-8d21-47d74de5ce77",
   "metadata": {},
   "source": [
    "# 토크나이저 "
   ]
  },
  {
   "cell_type": "code",
   "execution_count": 25,
   "id": "f4182be6-45aa-43f7-9be3-19396c8265cf",
   "metadata": {},
   "outputs": [
    {
     "name": "stdout",
     "output_type": "stream",
     "text": [
      "4550\n"
     ]
    },
    {
     "data": {
      "application/vnd.jupyter.widget-view+json": {
       "model_id": "f1c467ff0cc741eb80e62cde873f86ad",
       "version_major": 2,
       "version_minor": 0
      },
      "text/plain": [
       "0it [00:00, ?it/s]"
      ]
     },
     "metadata": {},
     "output_type": "display_data"
    }
   ],
   "source": [
    "# 전체에서 90% 이상 나오는 단어는 제거 \n",
    "\n",
    "# 단어 리스트 \n",
    "word_set = []\n",
    "for i , row in df_trg.iterrows():\n",
    "    word_set += list(set(row.words))\n",
    "\n",
    "word_set = list(set(word_set))\n",
    "    \n",
    "print(len(word_set))\n",
    "count_mat = np.zeros_like(word_set , dtype = 'int32')\n",
    "for i , word in tqdm(enumerate(word_set)):\n",
    "    for k , row in df_trg.iterrows():\n",
    "        if word in row.words:\n",
    "            count_mat[i] += 1 \n",
    "        \n",
    "\n",
    "    "
   ]
  },
  {
   "cell_type": "code",
   "execution_count": 26,
   "id": "8c5588f6-bb3b-4c5b-82e5-c2982cec3b51",
   "metadata": {},
   "outputs": [],
   "source": [
    "doc_count = len(df_trg) # total doc count \n",
    "ratio_mat = count_mat / doc_count"
   ]
  },
  {
   "cell_type": "code",
   "execution_count": 27,
   "id": "cd9ff3cc-d819-4c85-8ff7-a7ac2684475e",
   "metadata": {},
   "outputs": [],
   "source": [
    "df_ratio = pd.DataFrame()\n",
    "df_ratio['word']  = word_set\n",
    "df_ratio['ratio'] = ratio_mat\n"
   ]
  },
  {
   "cell_type": "code",
   "execution_count": 37,
   "id": "b09dc97f-300d-4851-8bf6-913bb131487b",
   "metadata": {},
   "outputs": [
    {
     "name": "stdout",
     "output_type": "stream",
     "text": [
      "0.5320574162679427\n"
     ]
    }
   ],
   "source": [
    "df_ratio_top = df_ratio.loc[df_ratio.ratio >= 0.8* df_ratio.ratio.max() ]\n",
    "print(0.8* df_ratio.ratio.max())"
   ]
  },
  {
   "cell_type": "code",
   "execution_count": 29,
   "id": "d94b24bf-429f-4266-9fc2-e84574490fc9",
   "metadata": {},
   "outputs": [],
   "source": [
    "df_ratio_cuttop = df_ratio.loc[df_ratio.ratio < 0.9* df_ratio.ratio.max() ]"
   ]
  },
  {
   "cell_type": "code",
   "execution_count": 36,
   "id": "e9d63680-efe7-4d3c-81b3-32e9a53c76c8",
   "metadata": {},
   "outputs": [
    {
     "data": {
      "text/html": [
       "<div>\n",
       "<style scoped>\n",
       "    .dataframe tbody tr th:only-of-type {\n",
       "        vertical-align: middle;\n",
       "    }\n",
       "\n",
       "    .dataframe tbody tr th {\n",
       "        vertical-align: top;\n",
       "    }\n",
       "\n",
       "    .dataframe thead th {\n",
       "        text-align: right;\n",
       "    }\n",
       "</style>\n",
       "<table border=\"1\" class=\"dataframe\">\n",
       "  <thead>\n",
       "    <tr style=\"text-align: right;\">\n",
       "      <th></th>\n",
       "      <th>word</th>\n",
       "      <th>ratio</th>\n",
       "    </tr>\n",
       "  </thead>\n",
       "  <tbody>\n",
       "    <tr>\n",
       "      <th>876</th>\n",
       "      <td>기업</td>\n",
       "      <td>0.583732</td>\n",
       "    </tr>\n",
       "    <tr>\n",
       "      <th>2734</th>\n",
       "      <td>환경</td>\n",
       "      <td>0.631579</td>\n",
       "    </tr>\n",
       "    <tr>\n",
       "      <th>3383</th>\n",
       "      <td>사업</td>\n",
       "      <td>0.626794</td>\n",
       "    </tr>\n",
       "    <tr>\n",
       "      <th>4374</th>\n",
       "      <td>친환경</td>\n",
       "      <td>0.665072</td>\n",
       "    </tr>\n",
       "  </tbody>\n",
       "</table>\n",
       "</div>"
      ],
      "text/plain": [
       "     word     ratio\n",
       "876    기업  0.583732\n",
       "2734   환경  0.631579\n",
       "3383   사업  0.626794\n",
       "4374  친환경  0.665072"
      ]
     },
     "execution_count": 36,
     "metadata": {},
     "output_type": "execute_result"
    }
   ],
   "source": [
    "df_ratio_top"
   ]
  },
  {
   "cell_type": "code",
   "execution_count": 24,
   "id": "f00f5865-e166-4ff4-8a71-6bcc770a84cc",
   "metadata": {},
   "outputs": [
    {
     "data": {
      "text/html": [
       "<div>\n",
       "<style scoped>\n",
       "    .dataframe tbody tr th:only-of-type {\n",
       "        vertical-align: middle;\n",
       "    }\n",
       "\n",
       "    .dataframe tbody tr th {\n",
       "        vertical-align: top;\n",
       "    }\n",
       "\n",
       "    .dataframe thead th {\n",
       "        text-align: right;\n",
       "    }\n",
       "</style>\n",
       "<table border=\"1\" class=\"dataframe\">\n",
       "  <thead>\n",
       "    <tr style=\"text-align: right;\">\n",
       "      <th></th>\n",
       "      <th>word</th>\n",
       "      <th>ratio</th>\n",
       "    </tr>\n",
       "  </thead>\n",
       "  <tbody>\n",
       "    <tr>\n",
       "      <th>20186</th>\n",
       "      <td>기업</td>\n",
       "      <td>0.583732</td>\n",
       "    </tr>\n",
       "    <tr>\n",
       "      <th>1039</th>\n",
       "      <td>기업</td>\n",
       "      <td>0.583732</td>\n",
       "    </tr>\n",
       "    <tr>\n",
       "      <th>2332</th>\n",
       "      <td>기업</td>\n",
       "      <td>0.583732</td>\n",
       "    </tr>\n",
       "    <tr>\n",
       "      <th>9724</th>\n",
       "      <td>기업</td>\n",
       "      <td>0.583732</td>\n",
       "    </tr>\n",
       "    <tr>\n",
       "      <th>17136</th>\n",
       "      <td>기업</td>\n",
       "      <td>0.583732</td>\n",
       "    </tr>\n",
       "    <tr>\n",
       "      <th>...</th>\n",
       "      <td>...</td>\n",
       "      <td>...</td>\n",
       "    </tr>\n",
       "    <tr>\n",
       "      <th>19613</th>\n",
       "      <td>급등세</td>\n",
       "      <td>0.004785</td>\n",
       "    </tr>\n",
       "    <tr>\n",
       "      <th>5679</th>\n",
       "      <td>당사자</td>\n",
       "      <td>0.004785</td>\n",
       "    </tr>\n",
       "    <tr>\n",
       "      <th>19615</th>\n",
       "      <td>비엠</td>\n",
       "      <td>0.004785</td>\n",
       "    </tr>\n",
       "    <tr>\n",
       "      <th>19616</th>\n",
       "      <td>바이</td>\n",
       "      <td>0.004785</td>\n",
       "    </tr>\n",
       "    <tr>\n",
       "      <th>5503</th>\n",
       "      <td>여도</td>\n",
       "      <td>0.004785</td>\n",
       "    </tr>\n",
       "  </tbody>\n",
       "</table>\n",
       "<p>22102 rows × 2 columns</p>\n",
       "</div>"
      ],
      "text/plain": [
       "      word     ratio\n",
       "20186   기업  0.583732\n",
       "1039    기업  0.583732\n",
       "2332    기업  0.583732\n",
       "9724    기업  0.583732\n",
       "17136   기업  0.583732\n",
       "...    ...       ...\n",
       "19613  급등세  0.004785\n",
       "5679   당사자  0.004785\n",
       "19615   비엠  0.004785\n",
       "19616   바이  0.004785\n",
       "5503    여도  0.004785\n",
       "\n",
       "[22102 rows x 2 columns]"
      ]
     },
     "execution_count": 24,
     "metadata": {},
     "output_type": "execute_result"
    }
   ],
   "source": [
    "df_ratio_cuttop.sort_values(by = 'ratio', ascending=False)"
   ]
  },
  {
   "cell_type": "code",
   "execution_count": 73,
   "id": "2baa8101-efab-4036-8a89-db7bfd22e49c",
   "metadata": {},
   "outputs": [],
   "source": [
    "# 고빈도 저빈도 제거 - 리스트 \n",
    "\n",
    "# 단어 리스트 \n",
    "word_list = []\n",
    "for i , row in df_trg.iterrows():\n",
    "    word_list += list(row.words)    \n",
    "res = dict(Counter(word_list))\n",
    "df_count = pd.DataFrame.from_dict(res,  orient='index')\n",
    "df_count['word']  = df_count.index\n",
    "df_count.columns = ['count','word']\n",
    "df_fromlist = df_count.sort_values(by = 'count' , ascending=False)"
   ]
  },
  {
   "cell_type": "code",
   "execution_count": 74,
   "id": "5dc8e98b-89dd-4eb9-9c04-2bf3a61ce4ca",
   "metadata": {},
   "outputs": [],
   "source": [
    "# 고빈도 저빈도 제거 - 리스트 \n",
    "\n",
    "# 단어 리스트 \n",
    "word_set = []\n",
    "for i , row in df_trg.iterrows():\n",
    "    word_set += list(set(row.words))\n",
    "\n",
    "res = dict(Counter(word_set))\n",
    "\n",
    "df_count = pd.DataFrame.from_dict(res,  orient='index')\n",
    "df_count['word']  = df_count.index\n",
    "df_count.columns = ['count','word']\n",
    "\n",
    "df_fromset = df_count.sort_values(by = 'count' , ascending=False)"
   ]
  },
  {
   "cell_type": "code",
   "execution_count": null,
   "id": "7e8fe7b4-b645-4c4e-b9dc-da8bab02e453",
   "metadata": {},
   "outputs": [],
   "source": []
  },
  {
   "cell_type": "code",
   "execution_count": null,
   "id": "bf8bbe4d-27e9-4f7f-ad51-06c74d34acfb",
   "metadata": {},
   "outputs": [],
   "source": [
    "# 전체에서 각 단어들이 몇번이나 나왔는지. \n",
    "# 이후 별로 안나오는 것들은 뺴버린다 .\n",
    "# 잘나오는 것들도 빼버린다. \n",
    "\n",
    "\n",
    "\n",
    "\n"
   ]
  },
  {
   "cell_type": "code",
   "execution_count": null,
   "id": "8537ff89-1c3e-444c-8ba3-1c5ba00fb000",
   "metadata": {},
   "outputs": [],
   "source": []
  }
 ],
 "metadata": {
  "kernelspec": {
   "display_name": "Python [conda env:nlp38]",
   "language": "python",
   "name": "conda-env-nlp38-py"
  },
  "language_info": {
   "codemirror_mode": {
    "name": "ipython",
    "version": 3
   },
   "file_extension": ".py",
   "mimetype": "text/x-python",
   "name": "python",
   "nbconvert_exporter": "python",
   "pygments_lexer": "ipython3",
   "version": "3.8.13"
  }
 },
 "nbformat": 4,
 "nbformat_minor": 5
}

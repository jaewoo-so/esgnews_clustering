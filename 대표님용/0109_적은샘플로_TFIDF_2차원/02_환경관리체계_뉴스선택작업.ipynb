{
 "cells": [
  {
   "cell_type": "markdown",
   "id": "455d24dc-c4ad-4e18-aff0-9a7dad4761a9",
   "metadata": {},
   "source": [
    "- 비슷한 뉴스 5개 찾기 \n",
    "- 덜 비슷한 뉴스 5개 찾기 "
   ]
  },
  {
   "cell_type": "markdown",
   "id": "a499e119-8eaf-47fc-903b-d6fdd4d35da2",
   "metadata": {},
   "source": [
    "비슷한 뉴스는 뉴딜, 그린 , 녹색 이 들어간 기사를 찾아본다. "
   ]
  },
  {
   "cell_type": "code",
   "execution_count": 1,
   "id": "52f64c37-7fdf-4997-9495-d42439430fc4",
   "metadata": {},
   "outputs": [],
   "source": [
    "import pandas as pd\n",
    "from functools import *"
   ]
  },
  {
   "cell_type": "code",
   "execution_count": 2,
   "id": "fb0e10a7-673c-44d3-a7af-13f7ea4f627f",
   "metadata": {},
   "outputs": [],
   "source": [
    "df_trg = pd.read_excel('환경관리체계.xlsx', index_col= 0)"
   ]
  },
  {
   "cell_type": "markdown",
   "id": "8cbabe47-b700-4b9d-928e-6abe6f8f4925",
   "metadata": {},
   "source": [
    "# 각 단어가 모두 포함되거나 포함되지 않은 뉴스를 찾아낸다. "
   ]
  },
  {
   "cell_type": "code",
   "execution_count": 3,
   "id": "105de4c5-852b-4a12-a812-c0d07c36fda8",
   "metadata": {},
   "outputs": [],
   "source": [
    "def intersection(df): # 공통된 단어를 찾는다. \n",
    "    sets = []\n",
    "    for w in df.words:\n",
    "        sets.append(set(w))\n",
    "    inter = list(reduce(set.intersection, sets))\n",
    "    wlist = w.replace('[','').replace(']','').replace(' ','').replace(\"''\",\"'\").replace(\"'\",\",\").replace(\"\\n\",\"\").split(',')\n",
    "    wuni = list(set(wlist))\n",
    "    wuni.remove('')\n",
    "    return wuni"
   ]
  },
  {
   "cell_type": "code",
   "execution_count": 8,
   "id": "85c1e1c0-383c-454e-9250-faa6d52eda89",
   "metadata": {},
   "outputs": [],
   "source": [
    "i = 0\n",
    "rows = []\n",
    "for k,item in df_trg.iterrows():\n",
    "    row = item.words\n",
    "    if '뉴딜' in row and '친환경' in row and '녹색' in row and '책임' in row:\n",
    "        rows.append(item)\n",
    "    \n",
    "df_in = pd.DataFrame(rows)\n",
    "#df_in.to_excel('환경관리체계_뉴딜.xlsx')\n",
    "#intersection(df_in)"
   ]
  },
  {
   "cell_type": "code",
   "execution_count": 11,
   "id": "de4de84a",
   "metadata": {},
   "outputs": [],
   "source": [
    "# 과징금\n",
    "i = 0\n",
    "rows = []\n",
    "for k,item in df_trg.iterrows():\n",
    "    row = item.words\n",
    "    if '과징금' in row:\n",
    "        rows.append(item)\n",
    "        i += 1\n",
    "df_out4 = pd.DataFrame(rows)\n",
    "#df_out4.to_excel('환경관리체계_과징금.xlsx')\n",
    "#intersection(df_out4)"
   ]
  },
  {
   "cell_type": "code",
   "execution_count": null,
   "id": "859bdbab",
   "metadata": {},
   "outputs": [],
   "source": [
    "#  농업\n",
    "i = 0\n",
    "rows = []\n",
    "for k,item in df_trg.iterrows():\n",
    "    row = item.words\n",
    "    if '농업' in row:\n",
    "        rows.append(item)\n",
    "        i += 1\n",
    "df_out5 = pd.DataFrame(rows)\n",
    "#df_out5.to_excel('환경관리체계_농업.xlsx')\n",
    "#intersection(df_out5)"
   ]
  },
  {
   "cell_type": "markdown",
   "id": "5725500e-0c15-49ba-b3b6-bd77d1401772",
   "metadata": {},
   "source": [
    "## 랜덤하게 13개 "
   ]
  },
  {
   "cell_type": "code",
   "execution_count": 16,
   "id": "6f617c4e-856a-4421-8fca-d12190684846",
   "metadata": {},
   "outputs": [],
   "source": [
    "i = 0\n",
    "rows = []\n",
    "for k,item in df_trg.iterrows():\n",
    "    row = item.words\n",
    "    if '뉴딜' not in row and '친환경' not in row and '녹색' not in row and '그린' not in row and '책임' not in row and '과징금' not in row and '농업' not in row:\n",
    "        rows.append(item)\n",
    "    \n",
    "df_rand = pd.DataFrame(rows)\n",
    "\n",
    "i = 0\n",
    "rows = []\n",
    "for k,item in df_rand.iterrows():\n",
    "    row = item.title\n",
    "    if '뉴딜' not in row and '친환경' not in row and '녹색' not in row and '그린' not in row and '책임' not in row and '과징금' not in row and '농업' not in row:\n",
    "        rows.append(item)\n",
    "    \n",
    "df_rand = pd.DataFrame(rows)"
   ]
  },
  {
   "cell_type": "code",
   "execution_count": 20,
   "id": "49ab0938-2817-46e4-a23a-26cf4012d800",
   "metadata": {},
   "outputs": [],
   "source": [
    "df_rand.sample(13).to_excel('환경관리체계_랜덤.xlsx')"
   ]
  },
  {
   "cell_type": "code",
   "execution_count": null,
   "id": "045c4b45-0449-4e98-88ca-0c0238991170",
   "metadata": {},
   "outputs": [],
   "source": [
    "\n",
    "\n",
    "\n",
    "\n",
    "\n"
   ]
  }
 ],
 "metadata": {
  "kernelspec": {
   "display_name": "Python 3 (ipykernel)",
   "language": "python",
   "name": "python3"
  },
  "language_info": {
   "codemirror_mode": {
    "name": "ipython",
    "version": 3
   },
   "file_extension": ".py",
   "mimetype": "text/x-python",
   "name": "python",
   "nbconvert_exporter": "python",
   "pygments_lexer": "ipython3",
   "version": "3.9.12"
  },
  "vscode": {
   "interpreter": {
    "hash": "49cb93f377a7abe7414b7b0f21fb3017538004a126cf690fb524202736b7fb92"
   }
  }
 },
 "nbformat": 4,
 "nbformat_minor": 5
}

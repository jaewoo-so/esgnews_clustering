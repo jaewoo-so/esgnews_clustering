{
 "cells": [
  {
   "cell_type": "markdown",
   "id": "455d24dc-c4ad-4e18-aff0-9a7dad4761a9",
   "metadata": {},
   "source": [
    "- 비슷한 뉴스 5개 찾기 \n",
    "- 덜 비슷한 뉴스 5개 찾기 "
   ]
  },
  {
   "cell_type": "markdown",
   "id": "a499e119-8eaf-47fc-903b-d6fdd4d35da2",
   "metadata": {},
   "source": [
    "비슷한 뉴스는 뉴딜, 그린 , 녹색 이 들어간 기사를 찾아본다. "
   ]
  },
  {
   "cell_type": "code",
   "execution_count": 47,
   "id": "52f64c37-7fdf-4997-9495-d42439430fc4",
   "metadata": {},
   "outputs": [],
   "source": [
    "import pandas as pd\n",
    "from functools import *"
   ]
  },
  {
   "cell_type": "code",
   "execution_count": 2,
   "id": "fb0e10a7-673c-44d3-a7af-13f7ea4f627f",
   "metadata": {},
   "outputs": [],
   "source": [
    "df_trg = pd.read_excel('환경관리체계.xlsx', index_col= 0)"
   ]
  },
  {
   "cell_type": "markdown",
   "id": "8cbabe47-b700-4b9d-928e-6abe6f8f4925",
   "metadata": {},
   "source": [
    "# 각 단어가 모두 포함되거나 포함되지 않은 뉴스를 찾아낸다. "
   ]
  },
  {
   "cell_type": "code",
   "execution_count": 86,
   "id": "105de4c5-852b-4a12-a812-c0d07c36fda8",
   "metadata": {},
   "outputs": [],
   "source": [
    "def intersection(df):\n",
    "    sets = []\n",
    "    for w in df.words:\n",
    "        sets.append(set(w))\n",
    "    inter = list(reduce(set.intersection, sets))\n",
    "    wlist = w.replace('[','').replace(']','').replace(' ','').replace(\"''\",\"'\").replace(\"'\",\",\").replace(\"\\n\",\"\").split(',')\n",
    "    wuni = list(set(wlist))\n",
    "    wuni.remove('')\n",
    "    return wuni"
   ]
  },
  {
   "cell_type": "code",
   "execution_count": 69,
   "id": "86126121-3992-48c3-9551-52a2867b6aec",
   "metadata": {},
   "outputs": [],
   "source": [
    "sets = []\n",
    "for w in df_in.words:\n",
    "    sets.append(set(w))\n",
    "inter = list(reduce(set.intersection, sets))\n",
    "wlist = w.replace('[','').replace(']','').replace(' ','').replace(\"''\",\"'\").replace(\"'\",\",\").replace(\"\\n\",\"\").split(',')\n",
    "wuni = list(set(wlist))\n",
    "wuni.remove('')"
   ]
  },
  {
   "cell_type": "code",
   "execution_count": 37,
   "id": "85c1e1c0-383c-454e-9250-faa6d52eda89",
   "metadata": {},
   "outputs": [],
   "source": [
    "i = 0\n",
    "rows = []\n",
    "for k,item in df_trg.iterrows():\n",
    "    row = item.words\n",
    "    if '뉴딜' in row and '친환경' in row and '녹색' in row and '책임' in row:\n",
    "        rows.append(item)\n",
    "    \n",
    "df_in = pd.DataFrame(rows)"
   ]
  },
  {
   "cell_type": "code",
   "execution_count": 108,
   "id": "7bf0689d-fd37-4df8-b4f0-e2160c507b0c",
   "metadata": {},
   "outputs": [
    {
     "data": {
      "text/plain": [
       "['정기',\n",
       " '판단',\n",
       " '선택',\n",
       " '이장원',\n",
       " '경제',\n",
       " '교수',\n",
       " '선임',\n",
       " '주식',\n",
       " '공인회계사',\n",
       " '마케팅',\n",
       " '본부',\n",
       " '의장',\n",
       " '최우석',\n",
       " '기여',\n",
       " '분야',\n",
       " '후보',\n",
       " '이노베이션',\n",
       " '중심',\n",
       " '위원회',\n",
       " '에너지',\n",
       " '수행',\n",
       " '소재',\n",
       " '인삿말',\n",
       " '주주',\n",
       " '중요',\n",
       " '친환경',\n",
       " '이사',\n",
       " '부여',\n",
       " '신사업',\n",
       " '승인',\n",
       " '사업',\n",
       " '매수',\n",
       " '산업',\n",
       " '직무',\n",
       " '자격',\n",
       " '의결',\n",
       " '찬성',\n",
       " '투자',\n",
       " '연구',\n",
       " '핵심',\n",
       " '회사',\n",
       " '사외',\n",
       " '실시',\n",
       " '참여',\n",
       " '안건',\n",
       " '실적',\n",
       " '회계학',\n",
       " '재무제표',\n",
       " '배터리',\n",
       " '김정관',\n",
       " '이해관계',\n",
       " '기대',\n",
       " '탈바꿈',\n",
       " '글로벌',\n",
       " '일치',\n",
       " '의결권',\n",
       " '김유석',\n",
       " '통과',\n",
       " '포부',\n",
       " '이외',\n",
       " '전반',\n",
       " '전문가',\n",
       " '인원',\n",
       " '지식',\n",
       " '역량',\n",
       " '김준',\n",
       " '구조',\n",
       " '보수',\n",
       " '종로구',\n",
       " '전문',\n",
       " '세무사',\n",
       " '원장',\n",
       " '부의',\n",
       " '원안',\n",
       " '추천',\n",
       " '발휘',\n",
       " '총회',\n",
       " '서울',\n",
       " '감사',\n",
       " '이명영',\n",
       " '위원',\n",
       " '경영',\n",
       " '담당',\n",
       " '예정',\n",
       " '대표',\n",
       " '성과',\n",
       " '발행주',\n",
       " '차관',\n",
       " '체계',\n",
       " '역할',\n",
       " '한도',\n",
       " '확대',\n",
       " '배당',\n",
       " '창출',\n",
       " '악화',\n",
       " '빌딩']"
      ]
     },
     "execution_count": 108,
     "metadata": {},
     "output_type": "execute_result"
    }
   ],
   "source": [
    "i = 0\n",
    "rows = []\n",
    "for k,item in df_trg.iterrows():\n",
    "    row = item.words\n",
    "    if '뉴딜' not in row and '친환경' in row and '녹색' not in row and '책임' not in row and '평가' not in row and '에너지' in row and '배터리' in row and '발전' not in row:\n",
    "        rows.append(item)\n",
    "        i += 1\n",
    "df_out1 = pd.DataFrame(rows)\n",
    "intersection(df_out1)"
   ]
  },
  {
   "cell_type": "code",
   "execution_count": null,
   "id": "e4cd676d-9384-484a-8f60-1c27ff929548",
   "metadata": {},
   "outputs": [],
   "source": [
    "i = 0\n",
    "rows = []\n",
    "for k,item in df_trg.iterrows():\n",
    "    row = item.words\n",
    "    if '뉴딜' not in row and '친환경' not in row and '녹색' not in row and '책임' not in row and '평가' not in row and '배출' not in row and '비용' in row and '발전' not in row:\n",
    "        rows.append(item)\n",
    "        i += 1\n",
    "df_out2 = pd.DataFrame(rows)\n",
    "intersection(df_out2)"
   ]
  },
  {
   "cell_type": "code",
   "execution_count": 40,
   "id": "2c482bd7-41c1-40c7-bfc2-1517b02689d1",
   "metadata": {},
   "outputs": [],
   "source": [
    "i = 0\n",
    "rows = []\n",
    "for k,item in df_trg.iterrows():\n",
    "    row = item.words\n",
    "    if '뉴딜' not in row and '친환경' not in row and '녹색' not in row and '그린' not in row and '책임' not in row:\n",
    "        rows.append(item)\n",
    "        i += 1\n",
    "df_out3 = pd.DataFrame(rows)"
   ]
  },
  {
   "cell_type": "code",
   "execution_count": null,
   "id": "2bf2e6df-fa5e-47ff-b9e3-7e6631fefc3f",
   "metadata": {},
   "outputs": [],
   "source": []
  },
  {
   "cell_type": "code",
   "execution_count": 41,
   "id": "b0169a0b-f7bf-4849-8a7a-1893265ef65d",
   "metadata": {},
   "outputs": [],
   "source": [
    "df_in['from'] = 'in'\n",
    "df_out1['from'] = 'out'\n",
    "df_out2['from'] = 'out'\n",
    "df_out3['from'] = 'out'"
   ]
  },
  {
   "cell_type": "code",
   "execution_count": null,
   "id": "2bf7435d-b4eb-4dce-a917-359d3b453ff5",
   "metadata": {},
   "outputs": [],
   "source": [
    "df_all = pd.concat([df_in,df_out1,df_out2,df_out3])\n",
    "\n",
    "df_all.to_excel('환경관리체계_선택끝.xlsx')"
   ]
  },
  {
   "cell_type": "markdown",
   "id": "5725500e-0c15-49ba-b3b6-bd77d1401772",
   "metadata": {},
   "source": [
    "## 재조정"
   ]
  },
  {
   "cell_type": "code",
   "execution_count": 106,
   "id": "92fb1243-30fa-4200-b564-411295ce1869",
   "metadata": {
    "tags": []
   },
   "outputs": [
    {
     "data": {
      "text/plain": [
       "['르노삼성',\n",
       " '과징금',\n",
       " '관리',\n",
       " '희망퇴직',\n",
       " '쌍용',\n",
       " '비용',\n",
       " '회생',\n",
       " '규제',\n",
       " '강화',\n",
       " '때문',\n",
       " '정부',\n",
       " '환경',\n",
       " '처지',\n",
       " '신청']"
      ]
     },
     "execution_count": 106,
     "metadata": {},
     "output_type": "execute_result"
    }
   ],
   "source": [
    "# 과징금\n",
    "i = 0\n",
    "rows = []\n",
    "for k,item in df_trg.iterrows():\n",
    "    row = item.words\n",
    "    if '과징금' in row:\n",
    "        rows.append(item)\n",
    "        i += 1\n",
    "df_out4 = pd.DataFrame(rows)\n",
    "df_out4.to_excel('환경관리체계_과징금.xlsx')\n",
    "intersection(df_out4)"
   ]
  },
  {
   "cell_type": "code",
   "execution_count": 82,
   "id": "6f617c4e-856a-4421-8fca-d12190684846",
   "metadata": {},
   "outputs": [],
   "source": []
  },
  {
   "cell_type": "code",
   "execution_count": 105,
   "id": "49ab0938-2817-46e4-a23a-26cf4012d800",
   "metadata": {},
   "outputs": [],
   "source": [
    "#  환경파괴\n",
    "i = 0\n",
    "rows = []\n",
    "for k,item in df_trg.iterrows():\n",
    "    row = item.words\n",
    "    if '농업' in row:\n",
    "        rows.append(item)\n",
    "        i += 1\n",
    "df_out5 = pd.DataFrame(rows)\n",
    "df_out5.to_excel('환경관리체계_농업.xlsx')\n",
    "#intersection(df_out5)"
   ]
  },
  {
   "cell_type": "code",
   "execution_count": null,
   "id": "045c4b45-0449-4e98-88ca-0c0238991170",
   "metadata": {},
   "outputs": [],
   "source": []
  }
 ],
 "metadata": {
  "kernelspec": {
   "display_name": "Python [conda env:nlp38]",
   "language": "python",
   "name": "conda-env-nlp38-py"
  },
  "language_info": {
   "codemirror_mode": {
    "name": "ipython",
    "version": 3
   },
   "file_extension": ".py",
   "mimetype": "text/x-python",
   "name": "python",
   "nbconvert_exporter": "python",
   "pygments_lexer": "ipython3",
   "version": "3.8.13"
  }
 },
 "nbformat": 4,
 "nbformat_minor": 5
}

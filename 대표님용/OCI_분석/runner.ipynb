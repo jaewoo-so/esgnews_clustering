{
 "cells": [
  {
   "cell_type": "code",
   "execution_count": 1,
   "id": "091d9cba-98e5-487e-aea3-86c92ff61baa",
   "metadata": {},
   "outputs": [],
   "source": [
    "import pandas as pd\n",
    "import re\n",
    "import os\n",
    "import time\n",
    "import lib\n",
    "from textwrap import dedent\n",
    "from googletrans import Translator\n",
    "from tqdm.auto import tqdm\n",
    "bot = lib.Chat_engine(lib.session_token)\n",
    "\n",
    "translator = Translator()"
   ]
  },
  {
   "cell_type": "code",
   "execution_count": 2,
   "id": "c77b6ed8-b903-482e-875b-0ba8900e0433",
   "metadata": {},
   "outputs": [],
   "source": [
    "df = pd.read_excel('./scrape_oci.xlsx', index_col=0)"
   ]
  },
  {
   "cell_type": "code",
   "execution_count": 3,
   "id": "d8dd7077-91f7-4217-8fdc-778cca3aff71",
   "metadata": {},
   "outputs": [],
   "source": [
    "def cleaning_korean(content):\n",
    "    content = content.replace('\\n\\n','')\n",
    "    content = ' '.join(content.split(' '))\n",
    "\n",
    "    #클리닝1\n",
    "    content = re.sub(r'... 기자', '', content)\n",
    "    content = re.sub(r'...기자', '', content)\n",
    "\n",
    "    #괄호안 제거 \n",
    "    ''' 괄호안 내용 제거하기 '''\n",
    "    pattern_bracket1 = r'\\([^)]*\\)'\n",
    "    pattern_bracket2 = r'\\{[^)]*\\}'\n",
    "    pattern_bracket3 = r'\\<[^)]*\\>'\n",
    "    pattern_bracket4 = r'\\[[^)]*\\]'\n",
    "\n",
    "    x = '이건 {괄호 안의 불필요한 정보를} 삭제하는 코드다.'\n",
    "    content = re.sub(pattern=pattern_bracket1, repl='', string= content)\n",
    "    content = ' '.join(content.split())\n",
    "    content = re.sub(pattern=pattern_bracket2, repl='', string= content)\n",
    "    content = ' '.join(content.split())\n",
    "    content = re.sub(pattern=pattern_bracket3, repl='', string= content)\n",
    "    content = ' '.join(content.split())\n",
    "    content = re.sub(pattern=pattern_bracket4, repl='', string= content)\n",
    "    content = ' '.join(content.split())\n",
    "    #클리닝\n",
    "    content = content.lower() #lower case\n",
    "    pattern = '([a-zA-Z0-9_.+-]+@[a-zA-Z0-9-]+\\.[a-zA-Z0-9-.]+)' # E-mail제거\n",
    "    content = re.sub(pattern=pattern, repl='', string=content)\n",
    "    pattern = '(http|ftp|https)://(?:[-\\w.]|(?:%[\\da-fA-F]{2}))+' # URL제거\n",
    "    content = re.sub(pattern=pattern, repl='', string=content)\n",
    "    # 특수기호 특수\n",
    "    content = re.sub('[-=+#/\\?:^$@*\\\"※~%ㆍ!』\\\\‘|\\(\\)\\[\\]\\<\\>`\\'…》Δ△·“=◎<>▷]', '', content)\n",
    "    content = re.sub('[一-龥]', '',content)\n",
    "    #pattern = '[^\\w\\s]'         # 특수기호제거\n",
    "    #content = re.sub(r'[@%\\\\*=()/~#&\\+á?\\xc3\\xa1\\-\\|\\:\\;\\!\\-\\,\\_\\~\\$\\'\\\"]', '',str(content)) #remove punctuation\n",
    "    content = re.sub(r\"[^a-zA-Z0-9가-힣\\.\\s]\",\"\",content)\n",
    "    content = re.sub(pattern=pattern, repl='', string=content)\n",
    "    content = re.sub(r'\\s+', ' ', content) #remove extra space\n",
    "    content = re.sub(r'<[^>]+>','',content) #remove Html tags\n",
    "    content = re.sub(r'\\s+', ' ', content) #remove spaces\n",
    "    content = re.sub(r\"^\\s+\", '', content) #remove space from start\n",
    "    content = re.sub(r'\\s+$', '', content) #remove space from the end\n",
    "    return content"
   ]
  },
  {
   "cell_type": "code",
   "execution_count": 4,
   "id": "9a18716b-d8d3-426f-a95e-1b985ad68b5e",
   "metadata": {},
   "outputs": [],
   "source": [
    "all_contents = []\n",
    "for i, row in df.iterrows():\n",
    "    tit = row.Titles\n",
    "    cot = row.Contents\n",
    "    cot_all = str(tit) + '.' + str(cot)\n",
    "    all_contents.append(cleaning_korean(cot_all))"
   ]
  },
  {
   "cell_type": "code",
   "execution_count": 5,
   "id": "e69770b8-e0c8-42bb-8796-e0e924b9d878",
   "metadata": {},
   "outputs": [
    {
     "data": {
      "application/vnd.jupyter.widget-view+json": {
       "model_id": "e225f8ab789e4372a9e17afc02ea820b",
       "version_major": 2,
       "version_minor": 0
      },
      "text/plain": [
       "  0%|          | 0/6669 [00:00<?, ?it/s]"
      ]
     },
     "metadata": {},
     "output_type": "display_data"
    },
    {
     "ename": "TimeoutException",
     "evalue": "Message: \nStacktrace:\nBacktrace:\n\t(No symbol) [0x011837D3]\n\t(No symbol) [0x01118B81]\n\t(No symbol) [0x0101B36D]\n\t(No symbol) [0x0104D382]\n\t(No symbol) [0x0104D4BB]\n\t(No symbol) [0x01083302]\n\t(No symbol) [0x0106B464]\n\t(No symbol) [0x01081215]\n\t(No symbol) [0x0106B216]\n\t(No symbol) [0x01040D97]\n\t(No symbol) [0x0104253D]\n\tGetHandleVerifier [0x013FABF2+2510930]\n\tGetHandleVerifier [0x01428EC1+2700065]\n\tGetHandleVerifier [0x0142C86C+2714828]\n\tGetHandleVerifier [0x01233480+645344]\n\t(No symbol) [0x01120FD2]\n\t(No symbol) [0x01126C68]\n\t(No symbol) [0x01126D4B]\n\t(No symbol) [0x01130D6B]\n\tBaseThreadInitThunk [0x76FC7D69+25]\n\tRtlInitializeExceptionChain [0x77CCBB9B+107]\n\tRtlClearBits [0x77CCBB1F+191]\n",
     "output_type": "error",
     "traceback": [
      "\u001b[1;31m---------------------------------------------------------------------------\u001b[0m",
      "\u001b[1;31mTimeoutException\u001b[0m                          Traceback (most recent call last)",
      "File \u001b[1;32m<timed exec>:3\u001b[0m, in \u001b[0;36m<module>\u001b[1;34m\u001b[0m\n",
      "File \u001b[1;32mD:\\10_work\\esgnews_clustering\\대표님용\\OCI_분석\\lib.py:11\u001b[0m, in \u001b[0;36mChat_engine.send_msg\u001b[1;34m(self, msg)\u001b[0m\n\u001b[0;32m     10\u001b[0m \u001b[38;5;28;01mdef\u001b[39;00m \u001b[38;5;21msend_msg\u001b[39m(\u001b[38;5;28mself\u001b[39m, msg) \u001b[38;5;241m-\u001b[39m\u001b[38;5;241m>\u001b[39m \u001b[38;5;28mstr\u001b[39m:\n\u001b[1;32m---> 11\u001b[0m     res \u001b[38;5;241m=\u001b[39m \u001b[38;5;28;43mself\u001b[39;49m\u001b[38;5;241;43m.\u001b[39;49m\u001b[43mapi\u001b[49m\u001b[38;5;241;43m.\u001b[39;49m\u001b[43msend_message\u001b[49m\u001b[43m(\u001b[49m\u001b[43mmsg\u001b[49m\u001b[43m)\u001b[49m\n\u001b[0;32m     13\u001b[0m     \u001b[38;5;28;01mreturn\u001b[39;00m res[\u001b[38;5;124m'\u001b[39m\u001b[38;5;124mmessage\u001b[39m\u001b[38;5;124m'\u001b[39m]\n",
      "File \u001b[1;32mD:\\10_work\\esgnews_clustering\\대표님용\\OCI_분석\\pyChatGPT\\pyChatGPT.py:573\u001b[0m, in \u001b[0;36mChatGPT.send_message\u001b[1;34m(self, message)\u001b[0m\n\u001b[0;32m    571\u001b[0m \u001b[38;5;66;03m# Send the message\u001b[39;00m\n\u001b[0;32m    572\u001b[0m \u001b[38;5;28mself\u001b[39m\u001b[38;5;241m.\u001b[39m__verbose_print(\u001b[38;5;124m'\u001b[39m\u001b[38;5;124m[send_msg] Sending message\u001b[39m\u001b[38;5;124m'\u001b[39m)\n\u001b[1;32m--> 573\u001b[0m \u001b[43mWebDriverWait\u001b[49m\u001b[43m(\u001b[49m\u001b[38;5;28;43mself\u001b[39;49m\u001b[38;5;241;43m.\u001b[39;49m\u001b[43mdriver\u001b[49m\u001b[43m,\u001b[49m\u001b[43m \u001b[49m\u001b[38;5;241;43m5\u001b[39;49m\u001b[43m)\u001b[49m\u001b[38;5;241;43m.\u001b[39;49m\u001b[43muntil\u001b[49m\u001b[43m(\u001b[49m\n\u001b[0;32m    574\u001b[0m \u001b[43m    \u001b[49m\u001b[43mEC\u001b[49m\u001b[38;5;241;43m.\u001b[39;49m\u001b[43melement_to_be_clickable\u001b[49m\u001b[43m(\u001b[49m\u001b[43m(\u001b[49m\u001b[43mBy\u001b[49m\u001b[38;5;241;43m.\u001b[39;49m\u001b[43mTAG_NAME\u001b[49m\u001b[43m,\u001b[49m\u001b[43m \u001b[49m\u001b[38;5;124;43m'\u001b[39;49m\u001b[38;5;124;43mtextarea\u001b[39;49m\u001b[38;5;124;43m'\u001b[39;49m\u001b[43m)\u001b[49m\u001b[43m)\u001b[49m\n\u001b[0;32m    575\u001b[0m \u001b[43m\u001b[49m\u001b[43m)\u001b[49m\n\u001b[0;32m    576\u001b[0m textbox \u001b[38;5;241m=\u001b[39m \u001b[38;5;28mself\u001b[39m\u001b[38;5;241m.\u001b[39mdriver\u001b[38;5;241m.\u001b[39mfind_element(By\u001b[38;5;241m.\u001b[39mTAG_NAME, \u001b[38;5;124m'\u001b[39m\u001b[38;5;124mtextarea\u001b[39m\u001b[38;5;124m'\u001b[39m)\n\u001b[0;32m    578\u001b[0m \u001b[38;5;66;03m# Sending emoji (from https://stackoverflow.com/a/61043442)\u001b[39;00m\n",
      "File \u001b[1;32mD:\\anaconda3\\envs\\nlp38\\lib\\site-packages\\selenium\\webdriver\\support\\wait.py:89\u001b[0m, in \u001b[0;36mWebDriverWait.until\u001b[1;34m(self, method, message)\u001b[0m\n\u001b[0;32m     87\u001b[0m     \u001b[38;5;28;01mif\u001b[39;00m time\u001b[38;5;241m.\u001b[39mmonotonic() \u001b[38;5;241m>\u001b[39m end_time:\n\u001b[0;32m     88\u001b[0m         \u001b[38;5;28;01mbreak\u001b[39;00m\n\u001b[1;32m---> 89\u001b[0m \u001b[38;5;28;01mraise\u001b[39;00m TimeoutException(message, screen, stacktrace)\n",
      "\u001b[1;31mTimeoutException\u001b[0m: Message: \nStacktrace:\nBacktrace:\n\t(No symbol) [0x011837D3]\n\t(No symbol) [0x01118B81]\n\t(No symbol) [0x0101B36D]\n\t(No symbol) [0x0104D382]\n\t(No symbol) [0x0104D4BB]\n\t(No symbol) [0x01083302]\n\t(No symbol) [0x0106B464]\n\t(No symbol) [0x01081215]\n\t(No symbol) [0x0106B216]\n\t(No symbol) [0x01040D97]\n\t(No symbol) [0x0104253D]\n\tGetHandleVerifier [0x013FABF2+2510930]\n\tGetHandleVerifier [0x01428EC1+2700065]\n\tGetHandleVerifier [0x0142C86C+2714828]\n\tGetHandleVerifier [0x01233480+645344]\n\t(No symbol) [0x01120FD2]\n\t(No symbol) [0x01126C68]\n\t(No symbol) [0x01126D4B]\n\t(No symbol) [0x01130D6B]\n\tBaseThreadInitThunk [0x76FC7D69+25]\n\tRtlInitializeExceptionChain [0x77CCBB9B+107]\n\tRtlClearBits [0x77CCBB1F+191]\n"
     ]
    }
   ],
   "source": [
    "%%time\n",
    "outputs = []\n",
    "for x in tqdm(all_contents):\n",
    "    output = bot.send_msg(     \"다음의 문장이 긍정,중립,부정 중 어느 카테고리에 속하는지 알려줘 \" + '\"' + str(x) + '\"')\n",
    "    outputs.append(output)"
   ]
  },
  {
   "cell_type": "code",
   "execution_count": 7,
   "id": "b0b2f828-11b3-4426-8762-7170128c040c",
   "metadata": {},
   "outputs": [
    {
     "data": {
      "text/plain": [
       "'개 대 가 리.넌 대 갈통 굴린거 젓될거다'"
      ]
     },
     "execution_count": 7,
     "metadata": {},
     "output_type": "execute_result"
    }
   ],
   "source": [
    "x"
   ]
  },
  {
   "cell_type": "code",
   "execution_count": null,
   "id": "90c95381-f083-44ec-a979-8875b9c6a5e5",
   "metadata": {},
   "outputs": [],
   "source": []
  }
 ],
 "metadata": {
  "kernelspec": {
   "display_name": "Python [conda env:nlp38]",
   "language": "python",
   "name": "conda-env-nlp38-py"
  },
  "language_info": {
   "codemirror_mode": {
    "name": "ipython",
    "version": 3
   },
   "file_extension": ".py",
   "mimetype": "text/x-python",
   "name": "python",
   "nbconvert_exporter": "python",
   "pygments_lexer": "ipython3",
   "version": "3.8.13"
  }
 },
 "nbformat": 4,
 "nbformat_minor": 5
}

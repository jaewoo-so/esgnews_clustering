{
 "cells": [
  {
   "cell_type": "code",
   "execution_count": 9,
   "id": "1916213a-10d3-48c7-b660-6b32898c638b",
   "metadata": {},
   "outputs": [],
   "source": [
    "import pandas as pd\n",
    "import re\n",
    "import os\n",
    "import time\n",
    "import lib\n",
    "from textwrap import dedent\n",
    "from googletrans import Translator\n",
    "from tqdm.auto import tqdm\n",
    "translator = Translator()\n"
   ]
  },
  {
   "cell_type": "code",
   "execution_count": 8,
   "id": "116f50e7-2302-4183-8e5a-e9bc619f31d7",
   "metadata": {},
   "outputs": [
    {
     "data": {
      "application/vnd.jupyter.widget-view+json": {
       "model_id": "53b8014e82c849ed8d81b56fe695cf37",
       "version_major": 2,
       "version_minor": 0
      },
      "text/plain": [
       "Downloading:   0%|          | 0.00/61.0 [00:00<?, ?B/s]"
      ]
     },
     "metadata": {},
     "output_type": "display_data"
    },
    {
     "data": {
      "application/vnd.jupyter.widget-view+json": {
       "model_id": "8c680b17844b426fbbf25f7302040d0c",
       "version_major": 2,
       "version_minor": 0
      },
      "text/plain": [
       "Downloading:   0%|          | 0.00/815 [00:00<?, ?B/s]"
      ]
     },
     "metadata": {},
     "output_type": "display_data"
    },
    {
     "data": {
      "application/vnd.jupyter.widget-view+json": {
       "model_id": "7fcde848b4134d459bc38866015ae08c",
       "version_major": 2,
       "version_minor": 0
      },
      "text/plain": [
       "Downloading:   0%|          | 0.00/257k [00:00<?, ?B/s]"
      ]
     },
     "metadata": {},
     "output_type": "display_data"
    },
    {
     "data": {
      "application/vnd.jupyter.widget-view+json": {
       "model_id": "81a2d2f9448b4133acfddf52368ef99f",
       "version_major": 2,
       "version_minor": 0
      },
      "text/plain": [
       "Downloading:   0%|          | 0.00/54.0M [00:00<?, ?B/s]"
      ]
     },
     "metadata": {},
     "output_type": "display_data"
    }
   ],
   "source": [
    "import os\n",
    "os.environ[\"HF_ENDPOINT\"] = \"https://huggingface.co\"\n",
    "\n",
    "from transformers import AutoTokenizer, AutoModelForSequenceClassification\n",
    "\n",
    "tokenizer = AutoTokenizer.from_pretrained(\"Doogie/waynehills_sentimental_kor\")\n",
    "model = AutoModelForSequenceClassification.from_pretrained(\"Doogie/waynehills_sentimental_kor\")"
   ]
  },
  {
   "cell_type": "code",
   "execution_count": 10,
   "id": "28ebfb95-3f26-41ee-bb1c-5451c0005026",
   "metadata": {},
   "outputs": [],
   "source": [
    "def cleaning_korean(content):\n",
    "    content = content.replace('\\n\\n','')\n",
    "    content = ' '.join(content.split(' '))\n",
    "\n",
    "    #클리닝1\n",
    "    content = re.sub(r'... 기자', '', content)\n",
    "    content = re.sub(r'...기자', '', content)\n",
    "\n",
    "    #괄호안 제거 \n",
    "    ''' 괄호안 내용 제거하기 '''\n",
    "    pattern_bracket1 = r'\\([^)]*\\)'\n",
    "    pattern_bracket2 = r'\\{[^)]*\\}'\n",
    "    pattern_bracket3 = r'\\<[^)]*\\>'\n",
    "    pattern_bracket4 = r'\\[[^)]*\\]'\n",
    "\n",
    "    x = '이건 {괄호 안의 불필요한 정보를} 삭제하는 코드다.'\n",
    "    content = re.sub(pattern=pattern_bracket1, repl='', string= content)\n",
    "    content = ' '.join(content.split())\n",
    "    content = re.sub(pattern=pattern_bracket2, repl='', string= content)\n",
    "    content = ' '.join(content.split())\n",
    "    content = re.sub(pattern=pattern_bracket3, repl='', string= content)\n",
    "    content = ' '.join(content.split())\n",
    "    content = re.sub(pattern=pattern_bracket4, repl='', string= content)\n",
    "    content = ' '.join(content.split())\n",
    "    #클리닝\n",
    "    content = content.lower() #lower case\n",
    "    pattern = '([a-zA-Z0-9_.+-]+@[a-zA-Z0-9-]+\\.[a-zA-Z0-9-.]+)' # E-mail제거\n",
    "    content = re.sub(pattern=pattern, repl='', string=content)\n",
    "    pattern = '(http|ftp|https)://(?:[-\\w.]|(?:%[\\da-fA-F]{2}))+' # URL제거\n",
    "    content = re.sub(pattern=pattern, repl='', string=content)\n",
    "    # 특수기호 특수\n",
    "    content = re.sub('[-=+#/\\?:^$@*\\\"※~%ㆍ!』\\\\‘|\\(\\)\\[\\]\\<\\>`\\'…》Δ△·“=◎<>▷]', '', content)\n",
    "    content = re.sub('[一-龥]', '',content)\n",
    "    #pattern = '[^\\w\\s]'         # 특수기호제거\n",
    "    #content = re.sub(r'[@%\\\\*=()/~#&\\+á?\\xc3\\xa1\\-\\|\\:\\;\\!\\-\\,\\_\\~\\$\\'\\\"]', '',str(content)) #remove punctuation\n",
    "    content = re.sub(r\"[^a-zA-Z0-9가-힣\\.\\s]\",\"\",content)\n",
    "    content = re.sub(pattern=pattern, repl='', string=content)\n",
    "    content = re.sub(r'\\s+', ' ', content) #remove extra space\n",
    "    content = re.sub(r'<[^>]+>','',content) #remove Html tags\n",
    "    content = re.sub(r'\\s+', ' ', content) #remove spaces\n",
    "    content = re.sub(r\"^\\s+\", '', content) #remove space from start\n",
    "    content = re.sub(r'\\s+$', '', content) #remove space from the end\n",
    "    return content"
   ]
  },
  {
   "cell_type": "code",
   "execution_count": 11,
   "id": "e8a0adc3-957b-4ba2-afc6-4c095559eed8",
   "metadata": {},
   "outputs": [],
   "source": [
    "df = pd.read_excel('./scrape_oci.xlsx', index_col=0)"
   ]
  },
  {
   "cell_type": "code",
   "execution_count": 12,
   "id": "1fdcc039-9bfc-4e9b-b23b-3c83ec1592b7",
   "metadata": {},
   "outputs": [],
   "source": [
    "all_contents = []\n",
    "for i, row in df.iterrows():\n",
    "    tit = row.Titles\n",
    "    cot = row.Contents\n",
    "    cot_all = str(tit) + '.' + str(cot)\n",
    "    all_contents.append(cleaning_korean(cot_all))"
   ]
  },
  {
   "cell_type": "code",
   "execution_count": null,
   "id": "6e6d5159-7b8d-463a-958c-00331bf3e6f8",
   "metadata": {},
   "outputs": [],
   "source": [
    "%%time\n",
    "contents_en = []\n",
    "for x in tqdm(all_contents):\n",
    "    try:\n",
    "        src = \"다음의 문장이 긍정,중립,부정 중 어느 카테고리에 속하는지 알려줘 \" + '\"' + str(x) + '\"'\n",
    "        src_en = translator.translate(src).text\n",
    "        contents_en.append(src_en)\n",
    "    except:\n",
    "        contents_en.append('중립')"
   ]
  },
  {
   "cell_type": "code",
   "execution_count": 22,
   "id": "128ae1e2-2eb8-4cbf-ba28-a9261fa3f799",
   "metadata": {},
   "outputs": [],
   "source": [
    "tt = tokenizer(all_contents[:3], return_tensors=\"pt\", padding=True)"
   ]
  },
  {
   "cell_type": "code",
   "execution_count": 24,
   "id": "8addb2a0-ba97-4588-8bad-690d6ed6c141",
   "metadata": {
    "tags": []
   },
   "outputs": [
    {
     "data": {
      "text/plain": [
       "SequenceClassifierOutput(loss=None, logits=tensor([[ 0.7370, -0.7105],\n",
       "        [ 0.0555, -0.0207],\n",
       "        [ 1.3740, -1.3492]], grad_fn=<AddmmBackward0>), hidden_states=None, attentions=None)"
      ]
     },
     "execution_count": 24,
     "metadata": {},
     "output_type": "execute_result"
    }
   ],
   "source": [
    "model(**tt)"
   ]
  },
  {
   "cell_type": "code",
   "execution_count": 25,
   "id": "67d0b028-3070-42d1-b239-356dd3e67c47",
   "metadata": {},
   "outputs": [
    {
     "data": {
      "text/plain": [
       "['중국 신장지구에 지진 진도7.3.냉무',\n",
       " '신한 .혼자 눌러대느라 애쓴다 공매상환 하려면 못오르게 눌러야지 그렇지만 그것도 곧한계가 온다 너같은 공매들땜에 일반주주들 손해으니 이제적당히 해라 배불르지 않냐',\n",
       " '애쓴다 비싸게.팔려고 저 매수호가 봐라']"
      ]
     },
     "execution_count": 25,
     "metadata": {},
     "output_type": "execute_result"
    }
   ],
   "source": [
    "all_contents[:3]"
   ]
  },
  {
   "cell_type": "code",
   "execution_count": null,
   "id": "a076dce0-94e1-46d8-898b-58046b53b01f",
   "metadata": {},
   "outputs": [],
   "source": []
  }
 ],
 "metadata": {
  "kernelspec": {
   "display_name": "Python [conda env:nlp38]",
   "language": "python",
   "name": "conda-env-nlp38-py"
  },
  "language_info": {
   "codemirror_mode": {
    "name": "ipython",
    "version": 3
   },
   "file_extension": ".py",
   "mimetype": "text/x-python",
   "name": "python",
   "nbconvert_exporter": "python",
   "pygments_lexer": "ipython3",
   "version": "3.8.13"
  }
 },
 "nbformat": 4,
 "nbformat_minor": 5
}

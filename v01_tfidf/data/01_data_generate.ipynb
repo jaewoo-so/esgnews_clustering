{
 "cells": [
  {
   "cell_type": "markdown",
   "metadata": {},
   "source": [
    "Autor: so jae woo\n",
    "Data src :  qesg news / 28 cat / 본문 포함. \n",
    "Summary : 기본적인 TfIdf를 적용해 벡터를 만든다. \n",
    "\n",
    "- 원본 경로 : esg_news_dist\\code\\Train_07_01-04TEST_single_models_compare-Light_version_v05.ipynb"
   ]
  },
  {
   "cell_type": "code",
   "execution_count": 5,
   "metadata": {
    "vscode": {
     "languageId": "python"
    }
   },
   "outputs": [],
   "source": [
    "import sys\n",
    "sys.path.append('../')\n",
    "\n",
    "# 파일이 있는 곳을 root로 설정\n",
    "import os\n",
    "#os.chdir(os.path.dirname(__file__))\n",
    "\n",
    "from functools import *\n",
    "import pandas as pd\n",
    "import numpy as np\n",
    "import pickle\n",
    "from sklearn.feature_extraction.text import TfidfVectorizer\n",
    "from sklearn.model_selection import train_test_split, StratifiedKFold\n",
    "from sklearn.metrics import classification_report, fbeta_score, confusion_matrix\n",
    "from matplotlib import pyplot as plt\n",
    "import seaborn as sns\n",
    "from lib.config_generator import process_config\n",
    "import lib.data_downloader as dw\n",
    "from lib import dictionary as dic\n",
    "from lib import cvt_preprocessing , prep_mecab_noun, dictionary\n",
    "import joblib \n",
    "import copy\n",
    "\n",
    "import lightgbm\n",
    "from sklearn.ensemble import GradientBoostingClassifier"
   ]
  },
  {
   "cell_type": "code",
   "execution_count": 3,
   "metadata": {
    "vscode": {
     "languageId": "python"
    }
   },
   "outputs": [
    {
     "ename": "NameError",
     "evalue": "name 'data_start_date' is not defined",
     "output_type": "error",
     "traceback": [
      "\u001b[1;31m---------------------------------------------------------------------------\u001b[0m",
      "\u001b[1;31mNameError\u001b[0m                                 Traceback (most recent call last)",
      "\u001b[1;32md:\\10_work\\esgnews_clustering\\v01_tfidf\\data\\01_data_generate.ipynb Cell 3\u001b[0m in \u001b[0;36m<cell line: 2>\u001b[1;34m()\u001b[0m\n\u001b[0;32m      <a href='vscode-notebook-cell:/d%3A/10_work/esgnews_clustering/v01_tfidf/data/01_data_generate.ipynb#W3sZmlsZQ%3D%3D?line=0'>1</a>\u001b[0m config_path \u001b[39m=\u001b[39m \u001b[39m'\u001b[39m\u001b[39m../config/config_test.json\u001b[39m\u001b[39m'\u001b[39m\n\u001b[1;32m----> <a href='vscode-notebook-cell:/d%3A/10_work/esgnews_clustering/v01_tfidf/data/01_data_generate.ipynb#W3sZmlsZQ%3D%3D?line=1'>2</a>\u001b[0m data_path \u001b[39m=\u001b[39m os\u001b[39m.\u001b[39mpath\u001b[39m.\u001b[39mjoin(\u001b[39m'\u001b[39m\u001b[39m../data\u001b[39m\u001b[39m'\u001b[39m,\u001b[39m'\u001b[39m\u001b[39mdata_from_\u001b[39m\u001b[39m{}\u001b[39;00m\u001b[39m_to_\u001b[39m\u001b[39m{}\u001b[39;00m\u001b[39m.pkl\u001b[39m\u001b[39m'\u001b[39m\u001b[39m.\u001b[39mformat(data_start_date,data_end_date))\n\u001b[0;32m      <a href='vscode-notebook-cell:/d%3A/10_work/esgnews_clustering/v01_tfidf/data/01_data_generate.ipynb#W3sZmlsZQ%3D%3D?line=2'>3</a>\u001b[0m df_data \u001b[39m=\u001b[39m dw\u001b[39m.\u001b[39mdown_db_data(config_path , data_path,data_start_date, data_end_date )\u001b[39m.\u001b[39msort_values(by \u001b[39m=\u001b[39m \u001b[39m'\u001b[39m\u001b[39mdate\u001b[39m\u001b[39m'\u001b[39m)\u001b[39m.\u001b[39mreset_index(drop\u001b[39m=\u001b[39m\u001b[39mTrue\u001b[39;00m)\n\u001b[0;32m      <a href='vscode-notebook-cell:/d%3A/10_work/esgnews_clustering/v01_tfidf/data/01_data_generate.ipynb#W3sZmlsZQ%3D%3D?line=3'>4</a>\u001b[0m df_data_processed \u001b[39m=\u001b[39m cvt_preprocessing\u001b[39m.\u001b[39mcvt_basic_processing_train_sample(df_data,\u001b[39m0\u001b[39m)\u001b[39m.\u001b[39msort_values(by \u001b[39m=\u001b[39m \u001b[39m'\u001b[39m\u001b[39mdate\u001b[39m\u001b[39m'\u001b[39m)\u001b[39m.\u001b[39mreset_index(drop\u001b[39m=\u001b[39m\u001b[39mTrue\u001b[39;00m)\u001b[39m.\u001b[39msort_values(by \u001b[39m=\u001b[39m \u001b[39m'\u001b[39m\u001b[39mdate\u001b[39m\u001b[39m'\u001b[39m)\u001b[39m.\u001b[39mreset_index(drop\u001b[39m=\u001b[39m\u001b[39mTrue\u001b[39;00m)\n",
      "\u001b[1;31mNameError\u001b[0m: name 'data_start_date' is not defined"
     ]
    }
   ],
   "source": [
    "config_path = '../config/config_test.json'\n",
    "data_path = os.path.join('../data','data_from_{}_to_{}.pkl'.format(data_start_date,data_end_date))\n",
    "df_data = dw.down_db_data(config_path , data_path,data_start_date, data_end_date ).sort_values(by = 'date').reset_index(drop=True)\n",
    "df_data_processed = cvt_preprocessing.cvt_basic_processing_train_sample(df_data,0).sort_values(by = 'date').reset_index(drop=True).sort_values(by = 'date').reset_index(drop=True)\n",
    "df_com = prep_mecab_noun.prep_mecab_noun(df_data_processed,sel_sample_over_num,data_start_date,data_start_date).sort_values(by = 'date').reset_index(drop=True)"
   ]
  },
  {
   "cell_type": "code",
   "execution_count": null,
   "metadata": {
    "vscode": {
     "languageId": "python"
    }
   },
   "outputs": [],
   "source": [
    "%%time\n",
    "# from tfidf\n",
    "corpus = df_com['contents_nouns'].values.tolist()\n",
    "tfidfv = TfidfVectorizer(max_features = n_feature , max_df= 0.99 , min_df= 3).fit(corpus)\n",
    "vocab_list = tfidfv.get_feature_names()\n",
    "\n",
    "# from file\n",
    "df_daishin = pd.read_csv('../data/feature_word.csv')\n",
    "\n",
    "# 로드한 키워드 리스트를 하나로 만들기\n",
    "keyword1 = df_daishin['세부키워드'].astype(str).tolist()\n",
    "keyword2 = df_daishin['세부 키워드 업데이트 '].astype(str).tolist()\n",
    "\n",
    "keyword1_splited =  [word_list.split(',') for word_list in keyword1]\n",
    "keyword1_com = list(reduce(lambda f,s : f+s , keyword1_splited))\n",
    "\n",
    "keyword2_splited =  [word_list.split(',') for word_list in keyword2]\n",
    "keyword2_com = list(reduce(lambda f,s : f+s , keyword2_splited))\n",
    "\n",
    "keyword_com = keyword1_com + keyword2_com\n",
    "keyword_clean = []\n",
    "for words in keyword_com:\n",
    "    keyword_clean += list(words.split(' '))\n",
    "\n",
    "keyword_list  = list(set(keyword_clean))[1:]\n",
    "vocab_list_com = list(set(vocab_list + keyword_list))\n",
    "\n",
    "# preprocessing\n",
    "x_noun = df_com['contents_nouns'].values.tolist()"
   ]
  },
  {
   "cell_type": "code",
   "execution_count": null,
   "metadata": {
    "vscode": {
     "languageId": "python"
    }
   },
   "outputs": [],
   "source": [
    "#tfidfv = TfidfVectorizer(max_features=len(vocab_list_com), max_df=0.99, min_df=3,vocabulary=vocab_list_com).fit(corpus)\n",
    "#joblib.dump(tfidfv,'./train_model_v07/tfidfv_cat_v07.joblib')\n",
    "tfidfv= joblib.load('./train_model_v07/tfidfv_cat_v07.joblib')"
   ]
  },
  {
   "cell_type": "code",
   "execution_count": null,
   "metadata": {
    "vscode": {
     "languageId": "python"
    }
   },
   "outputs": [],
   "source": [
    "feature = tfidfv.transform(x_noun).toarray()\n",
    "X = feature\n",
    "y = df_com.category_n.values\n",
    "idx = df_com.id"
   ]
  },
  {
   "cell_type": "code",
   "execution_count": null,
   "metadata": {
    "vscode": {
     "languageId": "python"
    }
   },
   "outputs": [],
   "source": []
  },
  {
   "cell_type": "code",
   "execution_count": null,
   "metadata": {
    "vscode": {
     "languageId": "python"
    }
   },
   "outputs": [],
   "source": []
  }
 ],
 "metadata": {
  "kernelspec": {
   "display_name": "Python 3 (ipykernel)",
   "language": "python",
   "name": "python3"
  },
  "language_info": {
   "codemirror_mode": {
    "name": "ipython",
    "version": 3
   },
   "file_extension": ".py",
   "mimetype": "text/x-python",
   "name": "python",
   "nbconvert_exporter": "python",
   "pygments_lexer": "ipython3",
   "version": "3.9.7"
  },
  "toc": {
   "base_numbering": 1,
   "nav_menu": {},
   "number_sections": true,
   "sideBar": true,
   "skip_h1_title": false,
   "title_cell": "Table of Contents",
   "title_sidebar": "Contents",
   "toc_cell": false,
   "toc_position": {},
   "toc_section_display": true,
   "toc_window_display": false
  },
<<<<<<< Updated upstream
  "language_info": {
   "codemirror_mode": {
    "name": "ipython",
    "version": 3
   },
   "file_extension": ".py",
   "mimetype": "text/x-python",
   "name": "python",
   "nbconvert_exporter": "python",
   "pygments_lexer": "ipython3",
   "version": "3.8.13"
  },
=======
>>>>>>> Stashed changes
  "vscode": {
   "interpreter": {
    "hash": "e5f39bb82ffeabb2834152b266f040325fd5c8b514dc714057e2f77d420cc596"
   }
  }
 },
 "nbformat": 4,
 "nbformat_minor": 4
}

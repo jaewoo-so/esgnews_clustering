{
 "cells": [
  {
   "cell_type": "code",
   "execution_count": 1,
   "metadata": {},
   "outputs": [],
   "source": [
    "import pickle\n",
    "import joblib\n",
    "import os\n",
    "#os.chdir(os.path.dirname(__file__))"
   ]
  },
  {
   "cell_type": "code",
   "execution_count": 5,
   "metadata": {},
   "outputs": [
    {
     "ename": "NameError",
     "evalue": "name '__file__' is not defined",
     "output_type": "error",
     "traceback": [
      "\u001b[1;31m---------------------------------------------------------------------------\u001b[0m",
      "\u001b[1;31mNameError\u001b[0m                                 Traceback (most recent call last)",
      "\u001b[1;32md:\\10_work\\esgnews_clustering\\v01_tfidf\\data\\02_usage.ipynb Cell 2\u001b[0m in \u001b[0;36m<cell line: 2>\u001b[1;34m()\u001b[0m\n\u001b[0;32m      <a href='vscode-notebook-cell:/d%3A/10_work/esgnews_clustering/v01_tfidf/data/02_usage.ipynb#W1sZmlsZQ%3D%3D?line=0'>1</a>\u001b[0m \u001b[39mfrom\u001b[39;00m \u001b[39mpathlib\u001b[39;00m \u001b[39mimport\u001b[39;00m Path\n\u001b[1;32m----> <a href='vscode-notebook-cell:/d%3A/10_work/esgnews_clustering/v01_tfidf/data/02_usage.ipynb#W1sZmlsZQ%3D%3D?line=1'>2</a>\u001b[0m path \u001b[39m=\u001b[39m Path(\u001b[39m__file__\u001b[39;49m)\n\u001b[0;32m      <a href='vscode-notebook-cell:/d%3A/10_work/esgnews_clustering/v01_tfidf/data/02_usage.ipynb#W1sZmlsZQ%3D%3D?line=2'>3</a>\u001b[0m \u001b[39mprint\u001b[39m(path)\n",
      "\u001b[1;31mNameError\u001b[0m: name '__file__' is not defined"
     ]
    }
   ],
   "source": [
    "from pathlib import Path\n",
    "path = Path(__file__)\n",
    "print(path)"
   ]
  },
  {
   "cell_type": "code",
   "execution_count": 3,
   "metadata": {},
   "outputs": [
    {
     "ename": "FileNotFoundError",
     "evalue": "[Errno 2] No such file or directory: './data_from_2020-05-11_to_2021-04-30.pkl'",
     "output_type": "error",
     "traceback": [
      "\u001b[1;31m---------------------------------------------------------------------------\u001b[0m",
      "\u001b[1;31mFileNotFoundError\u001b[0m                         Traceback (most recent call last)",
      "\u001b[1;32md:\\10_work\\esgnews_clustering\\v01_tfidf\\data\\02_usage.ipynb Cell 3\u001b[0m in \u001b[0;36m<cell line: 2>\u001b[1;34m()\u001b[0m\n\u001b[0;32m      <a href='vscode-notebook-cell:/d%3A/10_work/esgnews_clustering/v01_tfidf/data/02_usage.ipynb#W2sZmlsZQ%3D%3D?line=0'>1</a>\u001b[0m \u001b[39m# 로우 데이터\u001b[39;00m\n\u001b[1;32m----> <a href='vscode-notebook-cell:/d%3A/10_work/esgnews_clustering/v01_tfidf/data/02_usage.ipynb#W2sZmlsZQ%3D%3D?line=1'>2</a>\u001b[0m df_raw \u001b[39m=\u001b[39m pickle\u001b[39m.\u001b[39mload(\u001b[39mopen\u001b[39;49m(\u001b[39m\"\u001b[39;49m\u001b[39m./data_from_2020-05-11_to_2021-04-30.pkl\u001b[39;49m\u001b[39m\"\u001b[39;49m,\u001b[39m'\u001b[39;49m\u001b[39mrb\u001b[39;49m\u001b[39m'\u001b[39;49m))\n\u001b[0;32m      <a href='vscode-notebook-cell:/d%3A/10_work/esgnews_clustering/v01_tfidf/data/02_usage.ipynb#W2sZmlsZQ%3D%3D?line=3'>4</a>\u001b[0m \u001b[39m# TF-IDF 전처리기 \u001b[39;00m\n\u001b[0;32m      <a href='vscode-notebook-cell:/d%3A/10_work/esgnews_clustering/v01_tfidf/data/02_usage.ipynb#W2sZmlsZQ%3D%3D?line=4'>5</a>\u001b[0m tfidfv\u001b[39m=\u001b[39m joblib\u001b[39m.\u001b[39mload(\u001b[39m'\u001b[39m\u001b[39m./train_model_v07/tfidfv_cat_v07.joblib\u001b[39m\u001b[39m'\u001b[39m)\n",
      "\u001b[1;31mFileNotFoundError\u001b[0m: [Errno 2] No such file or directory: './data_from_2020-05-11_to_2021-04-30.pkl'"
     ]
    }
   ],
   "source": [
    "# 로우 데이터\n",
    "df_raw = pickle.load(open(\"./data_from_2020-05-11_to_2021-04-30.pkl\",'rb'))\n",
    "\n",
    "# TF-IDF 전처리기 \n",
    "tfidfv= joblib.load('./train_model_v07/tfidfv_cat_v07.joblib') \n",
    "\n",
    " \n"
   ]
  },
  {
   "cell_type": "code",
   "execution_count": null,
   "metadata": {},
   "outputs": [],
   "source": []
  }
 ],
 "metadata": {
  "kernelspec": {
   "display_name": "nlp38",
   "language": "python",
   "name": "python3"
  },
  "language_info": {
   "codemirror_mode": {
    "name": "ipython",
    "version": 3
   },
   "file_extension": ".py",
   "mimetype": "text/x-python",
   "name": "python",
   "nbconvert_exporter": "python",
   "pygments_lexer": "ipython3",
   "version": "3.8.13"
  },
  "orig_nbformat": 4,
  "vscode": {
   "interpreter": {
    "hash": "26ab5b3b6e6f698513e484fff06ebf525c328c6f03b682d3199bfb9536b458f3"
   }
  }
 },
 "nbformat": 4,
 "nbformat_minor": 2
}

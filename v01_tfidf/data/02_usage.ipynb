{
 "cells": [
  {
   "cell_type": "code",
   "execution_count": 6,
   "metadata": {},
   "outputs": [],
   "source": [
    "import pickle\n",
    "import joblib\n",
    "import os\n",
    "import pandas as pd\n",
    "#os.chdir(os.path.dirname(__file__))"
   ]
  },
  {
   "cell_type": "code",
   "execution_count": 9,
   "metadata": {},
   "outputs": [
    {
     "name": "stdout",
     "output_type": "stream",
     "text": [
      "CPU times: total: 6.7 s\n",
      "Wall time: 6.46 s\n"
     ]
    },
    {
     "name": "stderr",
     "output_type": "stream",
     "text": [
      "C:\\Users\\d331\\AppData\\Roaming\\Python\\Python38\\site-packages\\sklearn\\base.py:288: UserWarning: Trying to unpickle estimator TfidfTransformer from version 0.24.0 when using version 1.2.0. This might lead to breaking code or invalid results. Use at your own risk. For more info please refer to:\n",
      "https://scikit-learn.org/stable/model_persistence.html#security-maintainability-limitations\n",
      "  warnings.warn(\n",
      "C:\\Users\\d331\\AppData\\Roaming\\Python\\Python38\\site-packages\\sklearn\\base.py:288: UserWarning: Trying to unpickle estimator TfidfVectorizer from version 0.24.0 when using version 1.2.0. This might lead to breaking code or invalid results. Use at your own risk. For more info please refer to:\n",
      "https://scikit-learn.org/stable/model_persistence.html#security-maintainability-limitations\n",
      "  warnings.warn(\n"
     ]
    }
   ],
   "source": [
    "%%time\n",
    "# 로우 데이터\n",
    "#df_na = pickle.load(open(\"./data_from_2018-07-01_to_2021-04-20.pkl\",'rb'))\n",
    "df_med = pickle.load(open(\"./data_all_na_news.pkl\",'rb'))\n",
    "df_med = df_med.dropna( subset = ['contents','label_category'] , axis = 0 ) \n",
    "dfraw = pd.read_parquet('./df_qesg28_final.pq')\n",
    "# TF-IDF 전처리기 \n",
    "tfidfv= joblib.load('./tfidfv_cat_v07.joblib') \n"
   ]
  },
  {
   "cell_type": "code",
   "execution_count": 10,
   "metadata": {},
   "outputs": [
    {
     "data": {
      "text/html": [
       "<div>\n",
       "<style scoped>\n",
       "    .dataframe tbody tr th:only-of-type {\n",
       "        vertical-align: middle;\n",
       "    }\n",
       "\n",
       "    .dataframe tbody tr th {\n",
       "        vertical-align: top;\n",
       "    }\n",
       "\n",
       "    .dataframe thead th {\n",
       "        text-align: right;\n",
       "    }\n",
       "</style>\n",
       "<table border=\"1\" class=\"dataframe\">\n",
       "  <thead>\n",
       "    <tr style=\"text-align: right;\">\n",
       "      <th></th>\n",
       "      <th>id</th>\n",
       "      <th>keyword</th>\n",
       "      <th>title</th>\n",
       "      <th>link</th>\n",
       "      <th>contents</th>\n",
       "      <th>y</th>\n",
       "      <th>contents_clean</th>\n",
       "    </tr>\n",
       "  </thead>\n",
       "  <tbody>\n",
       "    <tr>\n",
       "      <th>0</th>\n",
       "      <td>5</td>\n",
       "      <td>삼성전자</td>\n",
       "      <td>[OA칼럼] 삼성전자, D램 EUV 공정 적용 의미와 전망은</td>\n",
       "      <td>http://www.thelec.kr/news/articleView.html?idx...</td>\n",
       "      <td>파운드리 사업과 장비 사용 공유\\n\\n편집자 주 : 전자부품 전문미디어 디일렉은 미...</td>\n",
       "      <td>제외</td>\n",
       "      <td>파운드리 사업과 장비 사용 공유편집자 주 전자부품 전문미디어 디일렉은 미국 메모리 ...</td>\n",
       "    </tr>\n",
       "    <tr>\n",
       "      <th>1</th>\n",
       "      <td>13</td>\n",
       "      <td>삼성전자</td>\n",
       "      <td>애플은 더 싸게 내놓고, 교체수요는 뚝… 위기의 삼성폰</td>\n",
       "      <td>https://news.chosun.com/site/data/html_dir/202...</td>\n",
       "      <td>삼성전자 스마트폰 사업에 위기감이 높아지고 있다. 코로나 팬데믹(대유행)에 직격탄을...</td>\n",
       "      <td>제외</td>\n",
       "      <td>삼성전자 스마트폰 사업에 위기감이 높아지고 있다. 코로나 팬데믹에 직격탄을 맞아 판...</td>\n",
       "    </tr>\n",
       "    <tr>\n",
       "      <th>2</th>\n",
       "      <td>18</td>\n",
       "      <td>삼성전자</td>\n",
       "      <td>5주년 맞은 삼성페이의 진화... 비대면 결제시장서 '기회'</td>\n",
       "      <td>http://biz.newdaily.co.kr/site/data/html/2020/...</td>\n",
       "      <td>삼성전자는 지난 2015년 상반기 플래그십폰 갤럭시S6 출시를 한달 여 앞둔 상황에...</td>\n",
       "      <td>제외</td>\n",
       "      <td>삼성전자는 지난 2015년 상반기 플래그십폰 갤럭시s6 출시를 한달 여 앞둔 상황에...</td>\n",
       "    </tr>\n",
       "    <tr>\n",
       "      <th>3</th>\n",
       "      <td>19</td>\n",
       "      <td>삼성전자</td>\n",
       "      <td>`경영권 불승계`…\"삼성물산·전자, 기업가치 재평가 기대\"</td>\n",
       "      <td>https://www.edaily.co.kr/news/read?newsId=0144...</td>\n",
       "      <td>[이데일리 김재은 기자] 미래에셋대우는 11일 삼성물산(028260) 삼성전자(00...</td>\n",
       "      <td>주주가치보호</td>\n",
       "      <td>미래에셋대우는 11일 삼성물산 삼성전자 등 삼성그룹주의 기업가치 재평가가 기대된다고...</td>\n",
       "    </tr>\n",
       "    <tr>\n",
       "      <th>4</th>\n",
       "      <td>30</td>\n",
       "      <td>삼성전자</td>\n",
       "      <td>이건희 회장 병상 6년… 이재용표 '뉴 삼성' 도약할까</td>\n",
       "      <td>https://www.seoul.co.kr/news/newsView.php?id=2...</td>\n",
       "      <td>李 회장 여전히 의식 없지만 자가 호흡\\n\\n▲ 이재용 삼성전자 부회장.\\n\\n연합...</td>\n",
       "      <td>소유구조</td>\n",
       "      <td>회장 여전히 의식 없지만 자가 호흡 이재용 삼성전자 부회장.이건희 삼성전자 회장이 ...</td>\n",
       "    </tr>\n",
       "    <tr>\n",
       "      <th>...</th>\n",
       "      <td>...</td>\n",
       "      <td>...</td>\n",
       "      <td>...</td>\n",
       "      <td>...</td>\n",
       "      <td>...</td>\n",
       "      <td>...</td>\n",
       "      <td>...</td>\n",
       "    </tr>\n",
       "    <tr>\n",
       "      <th>106159</th>\n",
       "      <td>350816</td>\n",
       "      <td>한국동서발전</td>\n",
       "      <td>한국동서발전, 일회용품 안쓰기 캠페인 실시…\"환경 지키기 앞장\"</td>\n",
       "      <td>https://www.mk.co.kr/news/business/view/2021/0...</td>\n",
       "      <td>\\n\\n임직원들이 `일회용품 안쓰기로 지구살리기` 캠페인을 시행하고 있다. [사진 ...</td>\n",
       "      <td>자원순환</td>\n",
       "      <td>임직원들이 일회용품 안쓰기로 지구살리기 캠페인을 시행하고 있다.</td>\n",
       "    </tr>\n",
       "    <tr>\n",
       "      <th>106160</th>\n",
       "      <td>350817</td>\n",
       "      <td>한국동서발전</td>\n",
       "      <td>[탄소중립 결의] \"경제성장·기후환경 두 마리 토끼 잡는다 ...</td>\n",
       "      <td>https://www.ekn.kr/web/view.php?key=2021042701...</td>\n",
       "      <td>▲이학영 국회 산업통상자원중소벤처기업위원회 위원장이 28일 서울 여의도 중소기업중앙...</td>\n",
       "      <td>에너지및온실가스</td>\n",
       "      <td>이학영 국회 산업통상자원중소벤처기업위원회 위원장이 28일 서울 여의도 중소기업중앙회...</td>\n",
       "    </tr>\n",
       "    <tr>\n",
       "      <th>106161</th>\n",
       "      <td>350820</td>\n",
       "      <td>한국동서발전</td>\n",
       "      <td>[시사일보] 수원시 영통구 망포2동 '미래세대를 위한 작은 실천 ...</td>\n",
       "      <td>http://www.koreasisailbo.com/274728</td>\n",
       "      <td>망포2동‘미래세대를 위한 작은 실천’캠페인  [시사일보=최승곤 기자] 수원시 영통...</td>\n",
       "      <td>제외</td>\n",
       "      <td>망포2동미래세대를 위한 작은 실천캠페인 수원시 영통구 망포2동 주민자치위원회가 지속...</td>\n",
       "    </tr>\n",
       "    <tr>\n",
       "      <th>106162</th>\n",
       "      <td>350827</td>\n",
       "      <td>기업은행</td>\n",
       "      <td>IB캐피탈, 한부모 거주시설에 차량 2대 기증...소외계층 돕는다</td>\n",
       "      <td>http://www.babytimes.co.kr/news/articleView.ht...</td>\n",
       "      <td>IBK캐피탈 최현숙(왼쪽) 대표와 대한사회복지회 김석현(오른쪽) 회장(사진=IBK기...</td>\n",
       "      <td>사회공헌</td>\n",
       "      <td>ibk캐피탈 최현숙 대표와 대한사회복지회 김석현 회장 ibk기업은행의 자회사 ibk...</td>\n",
       "    </tr>\n",
       "    <tr>\n",
       "      <th>106163</th>\n",
       "      <td>350829</td>\n",
       "      <td>기업은행</td>\n",
       "      <td>경남은행, 기업금융지점장 RM 채용</td>\n",
       "      <td>http://www.shinailbo.co.kr/news/articleView.ht...</td>\n",
       "      <td>내달 7일 오후 6시까지 지원서 이메일 접수\\n\\n(자료=경남은행)\\n\\nBNK경남...</td>\n",
       "      <td>제외</td>\n",
       "      <td>내달 7일 오후 6시까지 지원서 이메일 접수bnk경남은행이 수도권지역 여신영업 등을...</td>\n",
       "    </tr>\n",
       "  </tbody>\n",
       "</table>\n",
       "<p>106164 rows × 7 columns</p>\n",
       "</div>"
      ],
      "text/plain": [
       "            id keyword                                    title  \\\n",
       "0            5    삼성전자        [OA칼럼] 삼성전자, D램 EUV 공정 적용 의미와 전망은   \n",
       "1           13    삼성전자           애플은 더 싸게 내놓고, 교체수요는 뚝… 위기의 삼성폰   \n",
       "2           18    삼성전자        5주년 맞은 삼성페이의 진화... 비대면 결제시장서 '기회'   \n",
       "3           19    삼성전자         `경영권 불승계`…\"삼성물산·전자, 기업가치 재평가 기대\"   \n",
       "4           30    삼성전자           이건희 회장 병상 6년… 이재용표 '뉴 삼성' 도약할까   \n",
       "...        ...     ...                                      ...   \n",
       "106159  350816  한국동서발전      한국동서발전, 일회용품 안쓰기 캠페인 실시…\"환경 지키기 앞장\"   \n",
       "106160  350817  한국동서발전     [탄소중립 결의] \"경제성장·기후환경 두 마리 토끼 잡는다 ...   \n",
       "106161  350820  한국동서발전  [시사일보] 수원시 영통구 망포2동 '미래세대를 위한 작은 실천 ...   \n",
       "106162  350827    기업은행     IB캐피탈, 한부모 거주시설에 차량 2대 기증...소외계층 돕는다   \n",
       "106163  350829    기업은행                      경남은행, 기업금융지점장 RM 채용   \n",
       "\n",
       "                                                     link  \\\n",
       "0       http://www.thelec.kr/news/articleView.html?idx...   \n",
       "1       https://news.chosun.com/site/data/html_dir/202...   \n",
       "2       http://biz.newdaily.co.kr/site/data/html/2020/...   \n",
       "3       https://www.edaily.co.kr/news/read?newsId=0144...   \n",
       "4       https://www.seoul.co.kr/news/newsView.php?id=2...   \n",
       "...                                                   ...   \n",
       "106159  https://www.mk.co.kr/news/business/view/2021/0...   \n",
       "106160  https://www.ekn.kr/web/view.php?key=2021042701...   \n",
       "106161                http://www.koreasisailbo.com/274728   \n",
       "106162  http://www.babytimes.co.kr/news/articleView.ht...   \n",
       "106163  http://www.shinailbo.co.kr/news/articleView.ht...   \n",
       "\n",
       "                                                 contents         y  \\\n",
       "0       파운드리 사업과 장비 사용 공유\\n\\n편집자 주 : 전자부품 전문미디어 디일렉은 미...        제외   \n",
       "1       삼성전자 스마트폰 사업에 위기감이 높아지고 있다. 코로나 팬데믹(대유행)에 직격탄을...        제외   \n",
       "2       삼성전자는 지난 2015년 상반기 플래그십폰 갤럭시S6 출시를 한달 여 앞둔 상황에...        제외   \n",
       "3       [이데일리 김재은 기자] 미래에셋대우는 11일 삼성물산(028260) 삼성전자(00...    주주가치보호   \n",
       "4       李 회장 여전히 의식 없지만 자가 호흡\\n\\n▲ 이재용 삼성전자 부회장.\\n\\n연합...      소유구조   \n",
       "...                                                   ...       ...   \n",
       "106159  \\n\\n임직원들이 `일회용품 안쓰기로 지구살리기` 캠페인을 시행하고 있다. [사진 ...      자원순환   \n",
       "106160  ▲이학영 국회 산업통상자원중소벤처기업위원회 위원장이 28일 서울 여의도 중소기업중앙...  에너지및온실가스   \n",
       "106161   망포2동‘미래세대를 위한 작은 실천’캠페인  [시사일보=최승곤 기자] 수원시 영통...        제외   \n",
       "106162  IBK캐피탈 최현숙(왼쪽) 대표와 대한사회복지회 김석현(오른쪽) 회장(사진=IBK기...      사회공헌   \n",
       "106163  내달 7일 오후 6시까지 지원서 이메일 접수\\n\\n(자료=경남은행)\\n\\nBNK경남...        제외   \n",
       "\n",
       "                                           contents_clean  \n",
       "0       파운드리 사업과 장비 사용 공유편집자 주 전자부품 전문미디어 디일렉은 미국 메모리 ...  \n",
       "1       삼성전자 스마트폰 사업에 위기감이 높아지고 있다. 코로나 팬데믹에 직격탄을 맞아 판...  \n",
       "2       삼성전자는 지난 2015년 상반기 플래그십폰 갤럭시s6 출시를 한달 여 앞둔 상황에...  \n",
       "3       미래에셋대우는 11일 삼성물산 삼성전자 등 삼성그룹주의 기업가치 재평가가 기대된다고...  \n",
       "4       회장 여전히 의식 없지만 자가 호흡 이재용 삼성전자 부회장.이건희 삼성전자 회장이 ...  \n",
       "...                                                   ...  \n",
       "106159                임직원들이 일회용품 안쓰기로 지구살리기 캠페인을 시행하고 있다.  \n",
       "106160  이학영 국회 산업통상자원중소벤처기업위원회 위원장이 28일 서울 여의도 중소기업중앙회...  \n",
       "106161  망포2동미래세대를 위한 작은 실천캠페인 수원시 영통구 망포2동 주민자치위원회가 지속...  \n",
       "106162  ibk캐피탈 최현숙 대표와 대한사회복지회 김석현 회장 ibk기업은행의 자회사 ibk...  \n",
       "106163  내달 7일 오후 6시까지 지원서 이메일 접수bnk경남은행이 수도권지역 여신영업 등을...  \n",
       "\n",
       "[106164 rows x 7 columns]"
      ]
     },
     "execution_count": 10,
     "metadata": {},
     "output_type": "execute_result"
    }
   ],
   "source": [
    "dfraw"
   ]
  },
  {
   "cell_type": "code",
   "execution_count": 12,
   "metadata": {},
   "outputs": [],
   "source": [
    "feature = tfidfv.transform(dfraw.contents_clean).toarray()"
   ]
  },
  {
   "cell_type": "code",
   "execution_count": 13,
   "metadata": {},
   "outputs": [
    {
     "data": {
      "text/plain": [
       "array([[0., 0., 0., ..., 0., 0., 0.],\n",
       "       [0., 0., 0., ..., 0., 0., 0.],\n",
       "       [0., 0., 0., ..., 0., 0., 0.],\n",
       "       ...,\n",
       "       [0., 0., 0., ..., 0., 0., 0.],\n",
       "       [0., 0., 0., ..., 0., 0., 0.],\n",
       "       [0., 0., 0., ..., 0., 0., 0.]])"
      ]
     },
     "execution_count": 13,
     "metadata": {},
     "output_type": "execute_result"
    }
   ],
   "source": [
    "feature"
   ]
  },
  {
   "cell_type": "code",
   "execution_count": 15,
   "metadata": {},
   "outputs": [
    {
     "data": {
      "text/plain": [
       "array(['제외', '제외', '제외', ..., '제외', '사회공헌', '제외'], dtype=object)"
      ]
     },
     "execution_count": 15,
     "metadata": {},
     "output_type": "execute_result"
    }
   ],
   "source": [
    "dfraw.y.values"
   ]
  },
  {
   "cell_type": "code",
   "execution_count": null,
   "metadata": {},
   "outputs": [],
   "source": []
  }
 ],
 "metadata": {
  "kernelspec": {
   "display_name": "nlp38",
   "language": "python",
   "name": "python3"
  },
  "language_info": {
   "codemirror_mode": {
    "name": "ipython",
    "version": 3
   },
   "file_extension": ".py",
   "mimetype": "text/x-python",
   "name": "python",
   "nbconvert_exporter": "python",
   "pygments_lexer": "ipython3",
   "version": "3.8.13 | packaged by conda-forge | (default, Mar 25 2022, 05:59:45) [MSC v.1929 64 bit (AMD64)]"
  },
  "vscode": {
   "interpreter": {
    "hash": "26ab5b3b6e6f698513e484fff06ebf525c328c6f03b682d3199bfb9536b458f3"
   }
  }
 },
 "nbformat": 4,
 "nbformat_minor": 4
}

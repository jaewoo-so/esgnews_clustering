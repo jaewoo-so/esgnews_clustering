{
 "cells": [
  {
   "attachments": {},
   "cell_type": "markdown",
   "metadata": {},
   "source": [
    "Autor: so jae woo\n",
    "Data src :  qesg news / 28 cat / 본문 포함. \n",
    "Summary : 기본적인 TfIdf를 적용해 벡터를 만든다. \n",
    "\n",
    "\n",
    "\n"
   ]
  }
 ],
 "metadata": {
  "kernelspec": {
   "display_name": "Python 3",
   "language": "python",
   "name": "python3"
  },
  "language_info": {
   "name": "python",
   "version": "3.7.0 (default, Aug 14 2018, 19:12:50) [MSC v.1900 32 bit (Intel)]"
  },
  "orig_nbformat": 4,
  "vscode": {
   "interpreter": {
    "hash": "555f430c305a76c496bd3475eb4be18e1c1234748ee90799ec8c1565c6cdc212"
   }
  }
 },
 "nbformat": 4,
 "nbformat_minor": 2
}

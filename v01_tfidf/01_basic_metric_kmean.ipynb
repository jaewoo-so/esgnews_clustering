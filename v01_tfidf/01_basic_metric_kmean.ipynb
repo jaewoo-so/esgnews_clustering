{
 "cells": [
  {
   "attachments": {},
   "cell_type": "markdown",
   "metadata": {},
   "source": [
    "Autor: so jae woo\n",
    "Data src :  qesg news / 28 cat / 본문 포함. \n",
    "Summary : 기본적인 TfIdf를 적용해 벡터를 만든다. \n",
    "\n",
    "\n",
    "\n"
   ]
  }
 ],
 "metadata": {
  "language_info": {
   "name": "python"
  },
  "orig_nbformat": 4
 },
 "nbformat": 4,
 "nbformat_minor": 2
}

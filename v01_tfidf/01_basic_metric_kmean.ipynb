{
 "cells": [
  {
   "cell_type": "markdown",
   "metadata": {},
   "source": [
    "Autor: so jae woo\n",
    "Data src :  qesg news / 28 cat / 본문 포함. \n",
    "Summary : 기본적인 TfIdf를 적용해 벡터를 만든다. \n",
    "\n",
    "\n",
    "\n"
   ]
  }
 ],
 "metadata": {
  "kernelspec": {
   "display_name": "Python 3 (ipykernel)",
   "language": "python",
   "name": "python3"
  },
  "language_info": {
   "codemirror_mode": {
    "name": "ipython",
    "version": 3
   },
   "file_extension": ".py",
   "mimetype": "text/x-python",
   "name": "python",
   "nbconvert_exporter": "python",
   "pygments_lexer": "ipython3",
   "version": "3.9.12"
  },
  "vscode": {
   "interpreter": {
    "hash": "555f430c305a76c496bd3475eb4be18e1c1234748ee90799ec8c1565c6cdc212"
   }
  }
 },
 "nbformat": 4,
 "nbformat_minor": 4
}

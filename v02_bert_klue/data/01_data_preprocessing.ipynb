{
 "cells": [
  {
   "cell_type": "markdown",
   "metadata": {},
   "source": [
    "Autor: so jae woo    \n",
    "Data src :  qesg news / 28 cat / 본문 포함.    \n",
    "Summary : KLUE기반의 버트 사정 임베딩 모델 사용.   \n",
    "- 원본경로 unction\\220727_성능개선작업\n"
   ]
  },
  {
   "cell_type": "code",
   "execution_count": 1,
   "metadata": {},
   "outputs": [],
   "source": [
    "import pandas as pd\n",
    "import numpy as np\n",
    "import urllib.request\n",
    "import os\n",
    "from tqdm import tqdm\n",
    "import tensorflow as tf\n",
    "from transformers import BertTokenizer, TFBertModel\n",
    "import transformers\n",
    "transformers.__version__ # \n",
    "from sklearn.model_selection import StratifiedKFold\n",
    "\n",
    "from transformers import TFBertForSequenceClassification\n",
    "from tensorflow.keras.callbacks import EarlyStopping, ModelCheckpoint\n",
    "from transformers import TextClassificationPipeline\n",
    "\n",
    "from lib_offline import prep_mecab_noun_offline\n",
    "from lib2 import text_preprocessing\n",
    "import pickle"
   ]
  },
  {
   "cell_type": "markdown",
   "metadata": {},
   "source": [
    "# 데이터 준비 "
   ]
  },
  {
   "cell_type": "markdown",
   "metadata": {},
   "source": [
    "## QESG 데이터 준비 "
   ]
  },
  {
   "cell_type": "code",
   "execution_count": 13,
   "metadata": {},
   "outputs": [],
   "source": [
    "df_qesg = pickle.load(open(\"./data_all_na_news.pkl\",'rb'))\n",
    "df_qesg = df_qesg.dropna( subset = ['contents','label_category'] , axis = 0 ) "
   ]
  },
  {
   "cell_type": "markdown",
   "metadata": {
    "tags": []
   },
   "source": [
    "### 데이터 클리닝"
   ]
  },
  {
   "cell_type": "code",
   "execution_count": 14,
   "metadata": {},
   "outputs": [
    {
     "name": "stdout",
     "output_type": "stream",
     "text": [
      "CPU times: total: 30.7 s\n",
      "Wall time: 28.5 s\n"
     ]
    }
   ],
   "source": [
    "%%time\n",
    "df_qesg['contents_clean'] = df_qesg['contents'].apply(lambda x : text_preprocessing.manual_remove(text_preprocessing.cleaning_korean(x)))\n",
    "df_qesg = df_qesg[['id', 'keyword', 'title', 'link', 'contents', 'label_category','label_sentiment', 'contents_clean']]\n",
    "\n",
    "#컬럼명 바꾸기\n",
    "df_qesg.columns = ['id', 'keyword', 'title', 'link', 'contents', 'y','label_sentiment', 'contents_clean']\n",
    "df_qesg = df_qesg.reset_index(drop=True)"
   ]
  },
  {
   "cell_type": "markdown",
   "metadata": {},
   "source": [
    "### 짧은 본문 제거"
   ]
  },
  {
   "cell_type": "code",
   "execution_count": 15,
   "metadata": {},
   "outputs": [],
   "source": [
    "def check_contents_clean(row):\n",
    "    c = row.contents\n",
    "    cc = row.contents_clean\n",
    "    \n",
    "    if len(c) == 0:\n",
    "        return False\n",
    "    \n",
    "    if len(cc)/len(c)> 0.7:\n",
    "        return True\n",
    "    else:\n",
    "        return False"
   ]
  },
  {
   "cell_type": "code",
   "execution_count": 19,
   "metadata": {
    "tags": []
   },
   "outputs": [],
   "source": [
    "df_qesg = df_qesg.loc[df_qesg.y != '제외']\n",
    "bol_list = [ check_contents_clean(row) for i , row in df_qesg.iterrows() ]\n",
    "df_qesg['size'] = df_qesg[bol_list].contents_clean.apply(lambda x : len(x))\n",
    "df_qesg = df_qesg.loc[df_qesg['size'] > 40]"
   ]
  },
  {
   "cell_type": "markdown",
   "metadata": {},
   "source": [
    "### 카테고리 28->35개로 변경"
   ]
  },
  {
   "cell_type": "code",
   "execution_count": 20,
   "metadata": {},
   "outputs": [],
   "source": [
    "df35 = pd.read_csv('./카테고리_28to35.csv').dropna()\n",
    "dict_2835 = dict(zip(list(df35.before) , list(df35.after)))\n",
    "\n",
    "res = []\n",
    "for item in df_qesg.y:\n",
    "    try:\n",
    "        res.append(dict_2835[item])\n",
    "    except:\n",
    "        res.append('**'+item)\n",
    "        \n",
    "df_qesg['y2'] = res"
   ]
  },
  {
   "cell_type": "code",
   "execution_count": 22,
   "metadata": {},
   "outputs": [],
   "source": [
    "#최소 필요 컬럼만 가져오기\n",
    "df_qesg_small = df_qesg[[ 'link', 'contents','contents_clean','y', 'y2']]"
   ]
  },
  {
   "cell_type": "markdown",
   "metadata": {},
   "source": [
    "### 인적자원관리 쪽 실분류 데이터 가져오기 "
   ]
  },
  {
   "cell_type": "code",
   "execution_count": 24,
   "metadata": {},
   "outputs": [],
   "source": [
    "df_new = pd.read_excel('./인적자원관리_qesg데이터_기업명필터_김신영 재분류.xlsx')\n",
    "df_new.columns = ['순번', 'pidx', 'title', 'date', 'link', 'esg_predict', 'label_category','표준기업명', 'y', 'allow']\n",
    "df_new = df_new[['link',  'y']]\n",
    "df_new.columns = ['link',  'y2']\n",
    "\n",
    "\n",
    "# qesg에서 인적자원관리 빼버리기 \n",
    "df_qesg_noin = df_qesg_small.loc[df_qesg_small.y != '인적자원관리']\n",
    "\n",
    "# qesg에서 인적자원 관리만 가져오기 \n",
    "df_qesg_yesin = df_qesg_small.loc[df_qesg_small.y == '인적자원관리']\n",
    "\n",
    "# df_new에 contents_clean 넣기 \n",
    "df_new_con = df_new.merge(df_qesg_yesin.drop('y2',axis = 1), on = 'link', how = 'left' )\n",
    "df_new_con = df_new_con.dropna()\n",
    "df_new_con = df_new_con[['link', 'contents', 'contents_clean', 'y','y2']]"
   ]
  },
  {
   "cell_type": "code",
   "execution_count": 25,
   "metadata": {},
   "outputs": [],
   "source": [
    "#관련없음 빼기\n",
    "df_new_con = df_new_con.loc[df_new_con.y2 != '관련 없음']\n",
    "\n",
    "# 두개를 합치기 \n",
    "df_35 = pd.concat([df_qesg_noin,df_new_con], ignore_index=True)\n",
    "\n",
    "# 제거 카테고리\n",
    "df_35 = df_35.loc[df_35.y2 != '**소유구조']\n",
    "df_35 = df_35.loc[df_35.y2 != '**사회공헌']\n",
    "df_35 = df_35.loc[df_35.y2 != '**이익배분']\n",
    "df_35 = df_35.loc[df_35.y2 != '**ESG 거버넌스']\n",
    "\n",
    "df_35 = df_35.reset_index()"
   ]
  },
  {
   "cell_type": "markdown",
   "metadata": {},
   "source": [
    "### 평가판 데이터 및 본문 가져오기 "
   ]
  },
  {
   "cell_type": "code",
   "execution_count": 28,
   "metadata": {},
   "outputs": [
    {
     "data": {
      "application/vnd.jupyter.widget-view+json": {
       "model_id": "02db000a45284508b38e93779c9f9768",
       "version_major": 2,
       "version_minor": 0
      },
      "text/plain": [
       "  0%|          | 0/2769 [00:00<?, ?it/s]"
      ]
     },
     "metadata": {},
     "output_type": "display_data"
    }
   ],
   "source": [
    "''' 데이터 로드 '''\n",
    "df_res = pd.read_excel('./평가판/220715_평가판예측결과_35분류명칭수정_인적자원관리_김신영 작업완료.xlsx', index_col=0)\n",
    "df_res_con = pd.read_feather('./평가판/평가판본문.feather')\n",
    "\n",
    "\n",
    "''' 평가판 레이블 가져오기'''\n",
    "#df_res = df_res[['기업명', '상장코드', 'link', 'title','평가문항키워드', '(김신영) 1순위 카테고리']]\n",
    "df_res = df_res[[ 'link', '평가문항키워드', '(김신영) 1순위 카테고리']]\n",
    "df_res.columns = [ 'link', 'y','y2']\n",
    "df_res = df_res.loc[df_res.y2 != 'X']\n",
    "df_res = df_res.loc[df_res.y2 != 'x']\n",
    "df_res = df_res.drop_duplicates(subset = ['link'])\n",
    "\n",
    "# 평가판 본문 가져오기 : link - contents - contetns_clean\n",
    "df_res_con = pd.read_feather('./평가판/평가판본문.feather')\n",
    "df_nona = df_res_con.dropna(subset = ['contents','title'])\n",
    "df_nona = df_nona.drop_duplicates(subset = ['link'])\n",
    "\n",
    "# contents_noun 만들기\n",
    "df_n = prep_mecab_noun_offline.content2noun_mecab(df_nona['contents'])\n",
    "df_res_con = pd.concat([df_nona.reset_index(drop=True) , df_n.reset_index(drop=True)] , axis= 1)\n",
    "df_res_con = df_res_con[['link', 'contents','contents_nouns']]\n",
    "\n",
    "# contents clean 만들기\n",
    "ccleans = []\n",
    "for c in df_res_con.contents:\n",
    "    c = text_preprocessing.cleaning_korean(c)\n",
    "    c = text_preprocessing.manual_remove(c)\n",
    "    ccleans.append(c)\n",
    "df_res_con['contents_clean'] = ccleans\n",
    "\n",
    "\n",
    "#합치기\n",
    "dfp = df_res.merge(df_res_con, on = 'link' , how = 'inner')\n",
    "dfp = dfp[['link', 'contents', 'contents_clean' ,'contents_nouns', 'y', 'y2']]"
   ]
  },
  {
   "cell_type": "markdown",
   "metadata": {},
   "source": [
    "### 일부 클래스 채우기"
   ]
  },
  {
   "cell_type": "code",
   "execution_count": 29,
   "metadata": {},
   "outputs": [
    {
     "data": {
      "application/vnd.jupyter.widget-view+json": {
       "model_id": "59c1c6108e584f609753ee57f5bde854",
       "version_major": 2,
       "version_minor": 0
      },
      "text/plain": [
       "  0%|          | 0/610 [00:00<?, ?it/s]"
      ]
     },
     "metadata": {},
     "output_type": "display_data"
    }
   ],
   "source": [
    "\n",
    "minor1 = ['토양오염' , '수질오염' , '대기오염' , '환경영향평가 미흡 ', '생물다양성 저해', '유해화학물질 배출' , '폐기물 배출' ]\n",
    "dfs = []\n",
    "for col in minor1:\n",
    "    df_temp = df_35.loc[df_35.y2 == col]\n",
    "    if len(df_temp) > 200 : \n",
    "        df_temp = df_temp.sample(n = 200, random_state = 2022)\n",
    "    dfs.append(df_temp)\n",
    "    \n",
    "df_minor = pd.concat(dfs, ignore_index=True)\n",
    "df_minor = df_minor.drop('index',axis = 1)\n",
    "\n",
    "''' 본문 형태소 분석 한 것 만들기 '''\n",
    "df_nona = df_minor.drop_duplicates(subset = ['link'])\n",
    "df_n = prep_mecab_noun_offline.content2noun_mecab(df_nona['contents'])\n",
    "df_res_con = pd.concat([df_minor.reset_index(drop=True) , df_n.reset_index(drop=True)] , axis= 1)\n",
    "df_res_con = df_res_con[['link', 'contents_nouns']]\n",
    "\n",
    "#합치기\n",
    "df_minor = df_minor.merge(df_res_con, on = 'link' , how = 'inner')\n",
    "df_minor = df_minor[['link', 'contents', 'contents_clean','contents_nouns', 'y', 'y2']]"
   ]
  },
  {
   "cell_type": "code",
   "execution_count": 30,
   "metadata": {},
   "outputs": [],
   "source": [
    "df_minor_fill = pd.concat([dfp, df_minor] ,ignore_index=True).reset_index()\n",
    "df_minor_fill = df_minor_fill.reset_index()"
   ]
  },
  {
   "cell_type": "markdown",
   "metadata": {},
   "source": [
    "### 형태소분석 추가"
   ]
  },
  {
   "cell_type": "code",
   "execution_count": 31,
   "metadata": {},
   "outputs": [
    {
     "data": {
      "application/vnd.jupyter.widget-view+json": {
       "model_id": "7163a8dd6fca404ea76e24774b10ce42",
       "version_major": 2,
       "version_minor": 0
      },
      "text/plain": [
       "  0%|          | 0/24364 [00:00<?, ?it/s]"
      ]
     },
     "metadata": {},
     "output_type": "display_data"
    }
   ],
   "source": [
    "''' qesg데이터 형태소분석  '''\n",
    "df_nona = df_35.drop_duplicates(subset = ['link'])\n",
    "df_n = prep_mecab_noun_offline.content2noun_mecab(df_nona['contents'])\n",
    "df_res_con = pd.concat([df_nona.reset_index(drop=True) , df_n.reset_index(drop=True)] , axis= 1)\n",
    "df_res_con = df_res_con[['link', 'contents_nouns']]\n",
    "\n",
    "#합치기\n",
    "df_35_noun = df_35.merge(df_res_con, on = 'link' , how = 'inner')\n",
    "df_35_noun = df_35_noun[['link', 'contents','contents_clean', 'contents_nouns', 'y', 'y2']]\n",
    "df_35_noun = df_35_noun.reset_index(drop = True)"
   ]
  },
  {
   "cell_type": "code",
   "execution_count": 33,
   "metadata": {},
   "outputs": [],
   "source": [
    "df_minor_fill.to_parquet('./df_minor_fill.pq')\n",
    "df_35_noun.to_parquet('df_35_noun.pq')"
   ]
  },
  {
   "cell_type": "code",
   "execution_count": 35,
   "metadata": {},
   "outputs": [],
   "source": [
    "# data load\n",
    "df_minor_fill = pd.read_parquet('./df_minor_fill.pq')\n",
    "df_35_noun = pd.read_parquet('df_35_noun.pq')"
   ]
  },
  {
   "cell_type": "code",
   "execution_count": null,
   "metadata": {},
   "outputs": [],
   "source": []
  }
 ],
 "metadata": {
  "kernelspec": {
   "display_name": "Python [conda env:nlp38]",
   "language": "python",
   "name": "conda-env-nlp38-py"
  },
  "language_info": {
   "codemirror_mode": {
    "name": "ipython",
    "version": 3
   },
   "file_extension": ".py",
   "mimetype": "text/x-python",
   "name": "python",
   "nbconvert_exporter": "python",
   "pygments_lexer": "ipython3",
   "version": "3.8.13"
  },
  "vscode": {
   "interpreter": {
    "hash": "555f430c305a76c496bd3475eb4be18e1c1234748ee90799ec8c1565c6cdc212"
   }
  }
 },
 "nbformat": 4,
 "nbformat_minor": 4
}
